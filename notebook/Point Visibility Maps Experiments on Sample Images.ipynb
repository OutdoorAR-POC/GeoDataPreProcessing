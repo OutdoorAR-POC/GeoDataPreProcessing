{
 "cells": [
  {
   "cell_type": "markdown",
   "id": "db417236",
   "metadata": {},
   "source": [
    "# Point Visibility Maps: Experiments on Sample Images"
   ]
  },
  {
   "cell_type": "markdown",
   "id": "c389d5bc",
   "metadata": {},
   "source": [
    "##  Information Visualization on Mobile Devices: Efficient Occlusion Detection for Geospatial Applications"
   ]
  },
  {
   "cell_type": "code",
   "execution_count": null,
   "id": "44798a8e",
   "metadata": {},
   "outputs": [],
   "source": [
    "%load_ext autoreload\n",
    "%autoreload 2"
   ]
  },
  {
   "cell_type": "code",
   "execution_count": null,
   "id": "2d04cbfd",
   "metadata": {},
   "outputs": [],
   "source": [
    "import sys\n",
    "from pathlib import Path\n",
    "from typing import List\n",
    "import time\n",
    "from collections import defaultdict\n",
    "\n",
    "import json\n",
    "import matplotlib.pyplot as plt\n",
    "import numpy as np\n",
    "import pandas as pd\n",
    "from tqdm import tqdm\n",
    "\n",
    "sys.path.insert(0, '..')\n",
    "\n",
    "from outdoorar.constants import RESOURCES_DIR, CAMERAS_DIR, OUTPUT_DIR, FIGURES_DIR, PROJECT_DIR, get_visibility_dir\n",
    "from outdoorar.rendering import get_image_coordinates, is_inside_image\n",
    "from outdoorar.visibility import Visibility, Vertex, from_json, calculate_visibility, NearestNeighborSelector\n",
    "from outdoorar.sphere_sampling import SamplingScheme"
   ]
  },
  {
   "cell_type": "markdown",
   "id": "74a15be3",
   "metadata": {},
   "source": [
    "## Input data"
   ]
  },
  {
   "cell_type": "code",
   "execution_count": null,
   "id": "723507e3",
   "metadata": {},
   "outputs": [],
   "source": [
    "captured_images = RESOURCES_DIR.joinpath('capturedImages')\n",
    "cameras_sfm = CAMERAS_DIR.joinpath('cameras.sfm')"
   ]
  },
  {
   "cell_type": "code",
   "execution_count": null,
   "id": "47eccc63",
   "metadata": {},
   "outputs": [],
   "source": [
    "n_range = [2,4,8,16,32]"
   ]
  },
  {
   "cell_type": "markdown",
   "id": "b3a31ae4",
   "metadata": {},
   "source": [
    "## Functions"
   ]
  },
  {
   "cell_type": "code",
   "execution_count": null,
   "id": "3590f46f",
   "metadata": {},
   "outputs": [],
   "source": [
    "def read_polylines(n, sampling_scheme, parent_visibility_folder=None):\n",
    "    \n",
    "    if parent_visibility_folder is None:\n",
    "        parent_visibility_folder = get_visibility_dir(sampling_scheme)\n",
    "        \n",
    "    visibility_folder = parent_visibility_folder.joinpath(f'n_{n}')\n",
    "    blue_visibility = from_json(visibility_folder.joinpath('BluePolyline.json'))\n",
    "    red_visibility = from_json(visibility_folder.joinpath('RedPolyline.json'))\n",
    "    yellow_visibility = from_json(visibility_folder.joinpath('YellowPolyline.json'))\n",
    "    green_visibility = from_json(visibility_folder.joinpath('GreenPolyline.json'))\n",
    "\n",
    "    polylines = [\n",
    "        (green_visibility, (0, 1, 0.5)), \n",
    "        (yellow_visibility, (1, 1, 0)),\n",
    "        (red_visibility, (1, 0, 0)),\n",
    "        (blue_visibility, (0, 170/255, 1)),\n",
    "    ]\n",
    "    return polylines"
   ]
  },
  {
   "cell_type": "code",
   "execution_count": null,
   "id": "396659fe",
   "metadata": {},
   "outputs": [],
   "source": [
    "def get_or_create_output_directory(n, sampling_scheme, algorithm, parent_output_directory=OUTPUT_DIR):\n",
    "    output_directory = parent_output_directory.joinpath(\n",
    "        f'{sampling_scheme.name.lower()}_{algorithm.name.lower()}', \n",
    "        f'n_{n}',\n",
    "    )\n",
    "    output_directory.mkdir(exist_ok=True, parents=True)\n",
    "    return output_directory"
   ]
  },
  {
   "cell_type": "code",
   "execution_count": null,
   "id": "346c529c",
   "metadata": {},
   "outputs": [],
   "source": [
    "def polyline_to_matrix(visibility: Visibility) -> np.ndarray:\n",
    "    return np.array([[v.x, v.y, v.z] for v in visibility.vertices])"
   ]
  },
  {
   "cell_type": "code",
   "execution_count": null,
   "id": "fefa9bb9",
   "metadata": {},
   "outputs": [],
   "source": [
    "def clip(coords: np.ndarray, image_width: int, image_height: int) -> np.ndarray:\n",
    "    return np.maximum(np.minimum(coords, np.array([[image_width], [image_height], [1]])), 0)"
   ]
  },
  {
   "cell_type": "code",
   "execution_count": null,
   "id": "c2efce15",
   "metadata": {},
   "outputs": [],
   "source": [
    "def plot_polyline(image_coords, node_visibility, edges, color, image_width, image_height):\n",
    "    if not np.any(node_visibility):\n",
    "        return \n",
    "    plt.scatter(\n",
    "        x=image_coords[:, node_visibility][0], \n",
    "        y=image_coords[:, node_visibility][1], \n",
    "        facecolors=color,\n",
    "        edgecolors=color\n",
    "    )\n",
    "    for edge in edges:\n",
    "        v1_visible = node_visibility[edge.vertex1]\n",
    "        v2_visible = node_visibility[edge.vertex2]\n",
    "        coords = clip(image_coords[:, [edge.vertex1, edge.vertex2]], image_width, image_height)\n",
    "        if v1_visible and v2_visible:\n",
    "            plt.plot(coords[0], coords[1], '-', c=color)\n",
    "        elif v1_visible or v2_visible:\n",
    "            plt.plot(coords[0], coords[1], '--', c=color)\n"
   ]
  },
  {
   "cell_type": "markdown",
   "id": "483db4a1",
   "metadata": {},
   "source": [
    "## Camera information"
   ]
  },
  {
   "cell_type": "code",
   "execution_count": null,
   "id": "1e454b5e",
   "metadata": {},
   "outputs": [],
   "source": [
    "cameras = json.load(cameras_sfm.open('r'))"
   ]
  },
  {
   "cell_type": "code",
   "execution_count": null,
   "id": "05716b96",
   "metadata": {},
   "outputs": [],
   "source": [
    "cameras.keys()"
   ]
  },
  {
   "cell_type": "markdown",
   "id": "47b1fcad",
   "metadata": {},
   "source": [
    "### Camera intrinsic matrix"
   ]
  },
  {
   "cell_type": "code",
   "execution_count": null,
   "id": "ef77709c",
   "metadata": {},
   "outputs": [],
   "source": [
    "intrinsic = cameras['intrinsics'][0]"
   ]
  },
  {
   "cell_type": "code",
   "execution_count": null,
   "id": "220c3182",
   "metadata": {},
   "outputs": [],
   "source": [
    "K = np.array([\n",
    "    [float(intrinsic[\"pxFocalLength\"]), 0, float(intrinsic[\"principalPoint\"][0]), 0],\n",
    "    [0, float(intrinsic[\"pxFocalLength\"]), float(intrinsic[\"principalPoint\"][1]), 0],\n",
    "    [0, 0, 1, 0]\n",
    "])"
   ]
  },
  {
   "cell_type": "code",
   "execution_count": null,
   "id": "d3640d6b",
   "metadata": {},
   "outputs": [],
   "source": [
    "K"
   ]
  },
  {
   "cell_type": "markdown",
   "id": "0d640e4d",
   "metadata": {},
   "source": [
    "### Sample images"
   ]
  },
  {
   "cell_type": "code",
   "execution_count": null,
   "id": "df5b47fc",
   "metadata": {},
   "outputs": [],
   "source": [
    "views = {view['poseId'] : {\n",
    "    'imgName': view['path'][view['path'].rfind('/')+1:].upper(),\n",
    "    'width': int(view['width']),\n",
    "    'height': int(view['height'])\n",
    "} for view in cameras['views']}    "
   ]
  },
  {
   "cell_type": "markdown",
   "id": "88201fbb",
   "metadata": {},
   "source": [
    "### Prepare output dataframe with visibility information"
   ]
  },
  {
   "cell_type": "code",
   "execution_count": null,
   "id": "f6f295e9",
   "metadata": {},
   "outputs": [],
   "source": [
    "def get_output_dataframe(polylines, views):\n",
    "    annotations_info: list[tuple[str, str]] = []\n",
    "\n",
    "    for curr_polyline, curr_color in polylines:\n",
    "        poly_name = curr_polyline.name\n",
    "        num_vertices = len(curr_polyline.vertices)\n",
    "        annotations_info.extend(list(zip([poly_name] * num_vertices, [str(x) for x in range(num_vertices)])))\n",
    "        \n",
    "    images_index = [view['imgName'] for view in views.values()]\n",
    "    \n",
    "    return pd.DataFrame(\n",
    "        data=0, \n",
    "        columns=pd.MultiIndex.from_tuples(annotations_info), \n",
    "        index=images_index, \n",
    "        dtype=int,\n",
    "    )"
   ]
  },
  {
   "cell_type": "markdown",
   "id": "569a92ce",
   "metadata": {},
   "source": [
    "### Draw visible annotations in the image"
   ]
  },
  {
   "cell_type": "code",
   "execution_count": null,
   "id": "a0f65459",
   "metadata": {},
   "outputs": [],
   "source": [
    "def get_extrinsic_matrix(rotation, center):\n",
    "    R = np.array([float(x) for x in rotation]).reshape((3,3), order='F')\n",
    "    C = np.array([[float(x)] for x in center])\n",
    "    T = - np.matmul(R, C)\n",
    "    return np.vstack((np.hstack((R, T)), np.array([0, 0, 0, 1])))"
   ]
  },
  {
   "cell_type": "code",
   "execution_count": null,
   "id": "1dde639a",
   "metadata": {},
   "outputs": [],
   "source": [
    "def draw_visible_annotations(n, sampling_scheme, algorithm):\n",
    "    polylines = read_polylines(n, sampling_scheme)\n",
    "    output_directory = get_or_create_output_directory(n, sampling_scheme, algorithm)\n",
    "    results_df = get_output_dataframe(polylines, views)\n",
    "    times = []\n",
    "\n",
    "    for pose_obj in tqdm(cameras['poses'], desc=f'n={n}'):\n",
    "\n",
    "        # get camera pose and image details\n",
    "        pose = pose_obj['pose']['transform']\n",
    "        view = views[pose_obj['poseId']]\n",
    "        img_name = view['imgName']\n",
    "        image_width, image_height = view['width'], view['height']\n",
    "\n",
    "        # plot image\n",
    "        im = plt.imread(captured_images.joinpath(img_name))\n",
    "        fig, ax = plt.subplots(figsize=(16,12))\n",
    "        implot = ax.imshow(im)\n",
    "        plt.axis('off')\n",
    "\n",
    "        # calculate extrinsic matrix\n",
    "        M = get_extrinsic_matrix(pose['rotation'], pose['center'])\n",
    "        eye = [float(x) for x in pose[\"center\"]]  \n",
    "\n",
    "        image_time = 0\n",
    "        # for each polyline calculate visibility\n",
    "        for curr_polyline, curr_color in polylines:\n",
    "            start = time.time()\n",
    "            polyline_matrix = polyline_to_matrix(curr_polyline)\n",
    "            curr_image_coords = get_image_coordinates(polyline_matrix, K, M)\n",
    "            curr_is_visible = np.logical_and(\n",
    "                calculate_visibility(curr_polyline.vertices, eye, sampling_scheme, algorithm),\n",
    "                is_inside_image(curr_image_coords, image_width, image_height)\n",
    "            )\n",
    "            image_time += (time.time() - start)\n",
    "            results_df.loc[img_name, results_df.columns.get_level_values(0)==curr_polyline.name] = curr_is_visible.astype(int)\n",
    "            # plot visible points of the polyline to the image\n",
    "            plot_polyline(curr_image_coords, curr_is_visible, curr_polyline.edges, curr_color, image_width, image_height)\n",
    "\n",
    "        plt.savefig(output_directory.joinpath(img_name), bbox_inches='tight')\n",
    "        plt.close()\n",
    "        times.append(image_time)\n",
    "\n",
    "    results_df.to_csv(output_directory.joinpath('visibility.csv'))\n",
    "    return times"
   ]
  },
  {
   "cell_type": "code",
   "execution_count": null,
   "id": "9fb9d2a0",
   "metadata": {},
   "outputs": [],
   "source": [
    "algorithms = {\n",
    "    SamplingScheme.EQUAL_ANGLE: [\n",
    "        NearestNeighborSelector.EQUAL_SPACING, \n",
    "        NearestNeighborSelector.COSINE_DISTANCE,\n",
    "    ],\n",
    "    SamplingScheme.GOLDEN_SPIRAL: [\n",
    "        NearestNeighborSelector.COSINE_DISTANCE,\n",
    "    ],\n",
    "}"
   ]
  },
  {
   "cell_type": "code",
   "execution_count": null,
   "id": "50081fa5",
   "metadata": {},
   "outputs": [],
   "source": [
    "times = defaultdict(list)\n",
    "\n",
    "for sampling_scheme in SamplingScheme:\n",
    "    for algorithm in algorithms[sampling_scheme]:\n",
    "        for n in n_range:\n",
    "            times[(sampling_scheme.name, algorithm.name, n)].extend(\n",
    "                draw_visible_annotations(n, sampling_scheme, algorithm)\n",
    "            )\n"
   ]
  },
  {
   "cell_type": "code",
   "execution_count": null,
   "id": "878953e4",
   "metadata": {},
   "outputs": [],
   "source": [
    "for key, values in times.items():\n",
    "    print(key, np.mean(values))"
   ]
  },
  {
   "cell_type": "markdown",
   "id": "6aaabdcc",
   "metadata": {},
   "source": [
    "### Compare to ground truth"
   ]
  },
  {
   "cell_type": "code",
   "execution_count": null,
   "id": "881e72fc",
   "metadata": {},
   "outputs": [],
   "source": [
    "ground_truth_file_path = RESOURCES_DIR.joinpath('ground_truth.csv')\n",
    "gt_df = pd.read_csv(ground_truth_file_path, header=[0,1], index_col=0)"
   ]
  },
  {
   "cell_type": "code",
   "execution_count": null,
   "id": "966244b7",
   "metadata": {},
   "outputs": [],
   "source": [
    "def get_scores(gt_df, results_df, cols=None):\n",
    "    if cols is None:\n",
    "        cols = gt_df.columns\n",
    "    tp = np.logical_and(gt_df == 1, results_df[cols] == 1).sum().sum()\n",
    "    tn = np.logical_and(gt_df == 0, results_df[cols] == 0).sum().sum()\n",
    "    fp = np.logical_and(gt_df == 0, results_df[cols] == 1).sum().sum()\n",
    "    fn = np.logical_and(gt_df == 1, results_df[cols] == 0).sum().sum()\n",
    "    accuracy = (tp + tn) / (tp + tn + fp + fn)\n",
    "    precision = tp / (tp + fp)\n",
    "    recall = tp / (tp + fn)\n",
    "    f1 = (2*tp) / (2*tp + fp + fn)\n",
    "    return accuracy, precision, recall, f1    "
   ]
  },
  {
   "cell_type": "code",
   "execution_count": null,
   "id": "7b7acd1c",
   "metadata": {},
   "outputs": [],
   "source": [
    "headers = [\n",
    "    f\"{sampling.name.replace('_', ' ').title()} - {algorithm.name.replace('_', ' ').title()}\"\n",
    "    for sampling in SamplingScheme for algorithm in algorithms[sampling] \n",
    "]\n"
   ]
  },
  {
   "cell_type": "code",
   "execution_count": null,
   "id": "faee3571",
   "metadata": {},
   "outputs": [],
   "source": [
    "scores = pd.DataFrame(\n",
    "    data=np.nan, \n",
    "    columns=pd.MultiIndex.from_product(\n",
    "        [\n",
    "            headers, \n",
    "            ['Accuracy', 'Precision', 'Recall', 'F1-Score'],\n",
    "        ]\n",
    "    ), \n",
    "    index=pd.Index(n_range, name='Number of viewpoints')\n",
    ")\n",
    "\n",
    "\n",
    "for n in n_range:\n",
    "    row = []\n",
    "    for sampling_scheme in SamplingScheme:\n",
    "        for algorithm in algorithms[sampling_scheme]:\n",
    "            results_df = pd.read_csv(\n",
    "                get_or_create_output_directory(n, sampling_scheme, algorithm).joinpath('visibility.csv'),\n",
    "                index_col=0,\n",
    "                header=[0,1]\n",
    "            )\n",
    "            row.extend(get_scores(gt_df, results_df))\n",
    "    scores.loc[n] = row"
   ]
  },
  {
   "cell_type": "code",
   "execution_count": null,
   "id": "89f926a7",
   "metadata": {},
   "outputs": [],
   "source": [
    "scores"
   ]
  },
  {
   "cell_type": "markdown",
   "id": "3c9bbe87",
   "metadata": {},
   "source": [
    "## Smaller mesh experiment"
   ]
  },
  {
   "cell_type": "code",
   "execution_count": null,
   "id": "94b787b3",
   "metadata": {},
   "outputs": [],
   "source": [
    "smaller_mesh_1024 = pd.read_csv(\n",
    "    RESOURCES_DIR.joinpath('decimatedMesh_closedHoles_1024.csv'), \n",
    "    header=[0,1], \n",
    "    index_col=0,\n",
    ")"
   ]
  },
  {
   "cell_type": "code",
   "execution_count": null,
   "id": "a1e68919",
   "metadata": {},
   "outputs": [],
   "source": [
    "scores_1024 = get_scores(gt_df, smaller_mesh_1024)\n",
    "print(f'{scores_1024[0]:.4f} & {scores_1024[3]:.4f}')"
   ]
  },
  {
   "cell_type": "code",
   "execution_count": null,
   "id": "1f84b78c",
   "metadata": {},
   "outputs": [],
   "source": [
    "smaller_mesh_2048 = pd.read_csv(\n",
    "    RESOURCES_DIR.joinpath('decimatedMesh_closedHoles_2048.csv'), \n",
    "    header=[0,1], \n",
    "    index_col=0,\n",
    ")"
   ]
  },
  {
   "cell_type": "code",
   "execution_count": null,
   "id": "33fa5a8e",
   "metadata": {},
   "outputs": [],
   "source": [
    "scores_2048 = get_scores(gt_df, smaller_mesh_2048)\n",
    "print(f'{scores_2048[0]:.4f} & {scores_2048[3]:.4f}')"
   ]
  },
  {
   "cell_type": "code",
   "execution_count": null,
   "id": "32693953",
   "metadata": {},
   "outputs": [],
   "source": [
    "smaller_mesh_4096 = pd.read_csv(\n",
    "    RESOURCES_DIR.joinpath('decimatedMesh_closedHoles_4096.csv'), \n",
    "    header=[0,1], \n",
    "    index_col=0,\n",
    ")"
   ]
  },
  {
   "cell_type": "code",
   "execution_count": null,
   "id": "7133b74c",
   "metadata": {},
   "outputs": [],
   "source": [
    "scores_4096 = get_scores(gt_df, smaller_mesh_4096)\n",
    "print(f'{scores_4096[0]:.4f} & {scores_4096[3]:.4f}')"
   ]
  },
  {
   "cell_type": "code",
   "execution_count": null,
   "id": "60b497ee",
   "metadata": {},
   "outputs": [],
   "source": []
  }
 ],
 "metadata": {
  "kernelspec": {
   "display_name": "topoutils",
   "language": "python",
   "name": "topoutils"
  },
  "language_info": {
   "codemirror_mode": {
    "name": "ipython",
    "version": 3
   },
   "file_extension": ".py",
   "mimetype": "text/x-python",
   "name": "python",
   "nbconvert_exporter": "python",
   "pygments_lexer": "ipython3",
   "version": "3.11.3"
  }
 },
 "nbformat": 4,
 "nbformat_minor": 5
}
