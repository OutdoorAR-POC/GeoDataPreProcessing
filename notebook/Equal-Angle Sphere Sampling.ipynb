{
 "cells": [
  {
   "cell_type": "code",
   "execution_count": null,
   "id": "97fed7dc-9968-4cab-9bc0-2d2ce1600f70",
   "metadata": {},
   "outputs": [],
   "source": [
    "import plotly\n",
    "import numpy as np\n",
    "import plotly.graph_objects as go"
   ]
  },
  {
   "cell_type": "code",
   "execution_count": null,
   "id": "744ad2b9",
   "metadata": {},
   "outputs": [],
   "source": [
    "import sys\n",
    "sys.path.insert(0, '..')"
   ]
  },
  {
   "cell_type": "code",
   "execution_count": null,
   "id": "7c11e1d7",
   "metadata": {},
   "outputs": [],
   "source": [
    "from pathlib import Path\n",
    "\n",
    "import numpy as np\n",
    "\n",
    "from outdoorar import sphere_sampling\n",
    "from outdoorar.obj_reader import ObjFileReader\n",
    "from outdoorar.ray_casting import Triangle\n",
    "from outdoorar.constants import MODELS_DIR\n",
    "import plotly.io as pio\n",
    "pio.renderers.default = \"png\""
   ]
  },
  {
   "cell_type": "code",
   "execution_count": null,
   "id": "6243a059",
   "metadata": {},
   "outputs": [],
   "source": [
    "file_path = MODELS_DIR.joinpath('cube.obj')\n",
    "geometry = ObjFileReader(file_path).geometry\n",
    "\n",
    "N = 4\n",
    "direction_vectors = sphere_sampling.get_cartesian_coordinates(N)"
   ]
  },
  {
   "cell_type": "code",
   "execution_count": null,
   "id": "eca53c88",
   "metadata": {},
   "outputs": [],
   "source": [
    "def plot_geometry(geometry, fig=None):\n",
    "\n",
    "    tri_points = np.array([\n",
    "        geometry.vertices[i] for i in geometry.faces.reshape(-1)\n",
    "    ])\n",
    "    Xe, Ye, Ze = tri_points.T\n",
    "    \n",
    "    vertices = geometry.vertices.T\n",
    "    faces = geometry.faces.T\n",
    "\n",
    "    if fig is None:\n",
    "        fig = go.Figure()\n",
    "    fig.add_trace(\n",
    "        go.Mesh3d(\n",
    "            x=vertices[0], \n",
    "            y=vertices[1], \n",
    "            z=vertices[2], \n",
    "            i=faces[0], \n",
    "            j=faces[1], \n",
    "            k=faces[2],\n",
    "            opacity=0.4, \n",
    "            color='gray',\n",
    "        ))\n",
    "    fig.add_trace(\n",
    "        go.Scatter3d(\n",
    "           x=Xe,\n",
    "           y=Ye,\n",
    "           z=Ze,\n",
    "           mode='lines',\n",
    "           name='',\n",
    "           line=dict(color='red', width=1)\n",
    "        )  \n",
    "    )\n",
    "    return fig"
   ]
  },
  {
   "cell_type": "code",
   "execution_count": null,
   "id": "84736951",
   "metadata": {},
   "outputs": [],
   "source": [
    "def highlight_face(geometry, faces_to_highlight, color='red', fig=None):\n",
    "    if fig is None:\n",
    "        fig = go.Figure()\n",
    "       \n",
    "    fig.add_trace(\n",
    "        go.Mesh3d(\n",
    "            x=geometry.vertices.T[0], \n",
    "            y=geometry.vertices.T[1], \n",
    "            z=geometry.vertices.T[2], \n",
    "            i=geometry.faces[faces_to_highlight, 0], \n",
    "            j=geometry.faces[faces_to_highlight, 1], \n",
    "            k=geometry.faces[faces_to_highlight, 2],\n",
    "            opacity=0.4, \n",
    "            color=color,\n",
    "        ))\n",
    "    return fig"
   ]
  },
  {
   "cell_type": "code",
   "execution_count": null,
   "id": "311d4233",
   "metadata": {},
   "outputs": [],
   "source": [
    "def draw_directional_vectors(point, direction_vectors, fig=None, highlight=None):\n",
    "    x = direction_vectors.T[0].ravel()\n",
    "    y = direction_vectors.T[1].ravel()\n",
    "    z = direction_vectors.T[2].ravel()\n",
    "\n",
    "    if fig is None:\n",
    "        fig = go.Figure()\n",
    "    for xx, yy, zz in zip(x, y, z):\n",
    "        fig.add_trace(\n",
    "            go.Scatter3d(\n",
    "                x=np.array([point[0], xx+point[0]]), \n",
    "                y=np.array([point[1], yy+point[1]]), \n",
    "                z=np.array([point[2], zz+point[2]]), \n",
    "                mode='lines',\n",
    "                line=dict(color='darkgoldenrod')\n",
    "            )\n",
    "        )\n",
    "    fig.add_trace(\n",
    "        go.Scatter3d(\n",
    "            x=[point[0]],\n",
    "            y=[point[1]],\n",
    "            z=[point[2]],\n",
    "            mode='markers', \n",
    "            marker=dict(color='goldenrod'),\n",
    "        )\n",
    "    )\n",
    "    fig.add_trace(\n",
    "        go.Cone(\n",
    "            x=x+point[0], \n",
    "            y=y+point[1], \n",
    "            z=z+point[2], \n",
    "            u=0.1*x, \n",
    "            v=0.1*y, \n",
    "            w=0.1*z, \n",
    "            colorscale='Blues', \n",
    "            showscale=False,\n",
    "        )\n",
    "    )\n",
    "    \n",
    "    if highlight is not None:\n",
    "        fig = highlight_face(geometry, [highlight], fig=fig)\n",
    "        title = f'Directional invisibility of a point wrt face {highlight} - {len(direction_vectors)} vectors'\n",
    "    else:\n",
    "        title = 'Directional visibility of a point'\n",
    "    \n",
    "    fig.update_layout({\n",
    "        'scene': {\n",
    "          'camera': {\n",
    "            'eye': {'x': -0.76, 'y': 1.8, 'z': 0.92}, \n",
    "          },\n",
    "        },\n",
    "        'showlegend': False,\n",
    "        'margin': dict(l=0, r=0, t=50, pad=4),\n",
    "        'title': title,\n",
    "        'template': 'plotly_white',\n",
    "        'title_x': 0.5\n",
    "    })\n",
    "    return fig"
   ]
  },
  {
   "cell_type": "code",
   "execution_count": null,
   "id": "75ae394e",
   "metadata": {},
   "outputs": [],
   "source": [
    "def get_directional_maps_func(point, geometry, direction_vectors):\n",
    "    \n",
    "    def draw_directional_map(face_idx):\n",
    "        face = geometry.faces[face_idx]\n",
    "        triangle = Triangle(*[geometry.vertices[vertex_idx] for vertex_idx in face])\n",
    "        inside_triangle, squared_distances = triangle.does_ray_intersect(point, direction_vectors)\n",
    "        fig = plot_geometry(geometry)    \n",
    "        fig = draw_directional_vectors(point, direction_vectors[inside_triangle], fig, highlight=face_idx)\n",
    "        return fig\n",
    "    \n",
    "    return draw_directional_map"
   ]
  },
  {
   "cell_type": "code",
   "execution_count": null,
   "id": "a34a6ce9",
   "metadata": {},
   "outputs": [],
   "source": [
    "draw_directional_vectors([0,0,0], direction_vectors).show()"
   ]
  },
  {
   "cell_type": "code",
   "execution_count": null,
   "id": "4e221964",
   "metadata": {},
   "outputs": [],
   "source": [
    "point = [0.5, 0, 0.5]"
   ]
  },
  {
   "cell_type": "code",
   "execution_count": null,
   "id": "0981bc3d",
   "metadata": {},
   "outputs": [],
   "source": [
    "fig = plot_geometry(geometry)    \n",
    "fig = draw_directional_vectors(point, direction_vectors, fig)\n",
    "fig.show() "
   ]
  },
  {
   "cell_type": "code",
   "execution_count": null,
   "id": "97987321",
   "metadata": {},
   "outputs": [],
   "source": [
    "get_directional_maps = get_directional_maps_func(point, geometry, direction_vectors)"
   ]
  },
  {
   "cell_type": "code",
   "execution_count": null,
   "id": "5ec0de0e",
   "metadata": {},
   "outputs": [],
   "source": [
    "get_directional_maps(0).show()"
   ]
  },
  {
   "cell_type": "code",
   "execution_count": null,
   "id": "2aa01114",
   "metadata": {},
   "outputs": [],
   "source": [
    "get_directional_maps(1).show()"
   ]
  },
  {
   "cell_type": "code",
   "execution_count": null,
   "id": "fa81495a",
   "metadata": {},
   "outputs": [],
   "source": [
    "get_directional_maps(2).show()"
   ]
  },
  {
   "cell_type": "code",
   "execution_count": null,
   "id": "70c08342",
   "metadata": {},
   "outputs": [],
   "source": [
    "get_directional_maps(3).show()"
   ]
  },
  {
   "cell_type": "code",
   "execution_count": null,
   "id": "c1a9cc01-a8cc-4c49-9d0e-ed0343e8d99d",
   "metadata": {},
   "outputs": [],
   "source": [
    "get_directional_maps(4).show()"
   ]
  },
  {
   "cell_type": "code",
   "execution_count": null,
   "id": "c6a017ab",
   "metadata": {},
   "outputs": [],
   "source": [
    "get_directional_maps(5).show()"
   ]
  },
  {
   "cell_type": "code",
   "execution_count": null,
   "id": "21ba0814",
   "metadata": {},
   "outputs": [],
   "source": [
    "get_directional_maps(6).show()"
   ]
  },
  {
   "cell_type": "code",
   "execution_count": null,
   "id": "324f101d",
   "metadata": {},
   "outputs": [],
   "source": [
    "get_directional_maps(7).show()"
   ]
  },
  {
   "cell_type": "code",
   "execution_count": null,
   "id": "3f2a18f5",
   "metadata": {},
   "outputs": [],
   "source": [
    "get_directional_maps(8).show()"
   ]
  },
  {
   "cell_type": "code",
   "execution_count": null,
   "id": "6eb28f66",
   "metadata": {},
   "outputs": [],
   "source": [
    "get_directional_maps(9).show()"
   ]
  },
  {
   "cell_type": "code",
   "execution_count": null,
   "id": "0c89f370",
   "metadata": {},
   "outputs": [],
   "source": [
    "get_directional_maps(10).show()"
   ]
  },
  {
   "cell_type": "code",
   "execution_count": null,
   "id": "a9b78c5c",
   "metadata": {},
   "outputs": [],
   "source": [
    "get_directional_maps(11).show()"
   ]
  },
  {
   "cell_type": "code",
   "execution_count": null,
   "id": "4eff8feb",
   "metadata": {},
   "outputs": [],
   "source": []
  },
  {
   "cell_type": "code",
   "execution_count": null,
   "id": "b8428980",
   "metadata": {},
   "outputs": [],
   "source": []
  }
 ],
 "metadata": {
  "kernelspec": {
   "display_name": "topoutils",
   "language": "python",
   "name": "topoutils"
  },
  "language_info": {
   "codemirror_mode": {
    "name": "ipython",
    "version": 3
   },
   "file_extension": ".py",
   "mimetype": "text/x-python",
   "name": "python",
   "nbconvert_exporter": "python",
   "pygments_lexer": "ipython3",
   "version": "3.11.3"
  }
 },
 "nbformat": 4,
 "nbformat_minor": 5
}
