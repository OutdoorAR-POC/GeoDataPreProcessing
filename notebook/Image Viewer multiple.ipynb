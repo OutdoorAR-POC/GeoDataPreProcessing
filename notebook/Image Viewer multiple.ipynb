{
 "cells": [
  {
   "cell_type": "markdown",
   "id": "db417236",
   "metadata": {},
   "source": [
    "# Image Viewer for all images in a batch"
   ]
  },
  {
   "cell_type": "code",
   "execution_count": 1,
   "id": "2d04cbfd",
   "metadata": {},
   "outputs": [],
   "source": [
    "import sys\n",
    "from pathlib import Path\n",
    "from typing import List\n",
    "\n",
    "import json\n",
    "import matplotlib.pyplot as plt\n",
    "import numpy as np\n",
    "from tqdm import tqdm\n",
    "\n",
    "from topoutils.constants import PROJECT_DIR\n",
    "from topoutils.sphere_sampling import get_spherical_coordinates\n",
    "from topoutils.visibility import Vertex, from_json\n",
    "\n",
    "sys.path.insert(0, '..')"
   ]
  },
  {
   "cell_type": "code",
   "execution_count": 71,
   "id": "723507e3",
   "metadata": {},
   "outputs": [],
   "source": [
    "assets = Path(r'd:\\android_apps\\ImageViewer\\app\\src\\main\\assets')\n",
    "captured_images = assets.joinpath('capturedImages')\n",
    "cameras_sfm = assets.joinpath('paths', 'cameras.sfm')\n",
    "output_directory = Path('.').resolve().joinpath('output')\n",
    "output_directory.mkdir(exist_ok=True)"
   ]
  },
  {
   "cell_type": "markdown",
   "id": "7dc6062a",
   "metadata": {},
   "source": [
    "## Sample polylines\n",
    "### Green"
   ]
  },
  {
   "cell_type": "code",
   "execution_count": 3,
   "id": "7712aa01",
   "metadata": {},
   "outputs": [],
   "source": [
    "green_polyline = np.array([\n",
    "    [2.097919940948E+00, 1.610359922051E-02, 2.190779924393E+00, 255, 255, 255],\n",
    "    [1.971269965172E+00, 2.922860085964E-01, 2.525049924850E+00, 255, 255, 255],\n",
    "    [1.777729988098E+00, 6.717010140419E-01, 2.703690052032E+00, 255, 255, 255],\n",
    "    [1.789610028267E+00, 1.110649943352E+00, 2.692329883575E+00, 255, 255, 255],\n",
    "    [1.545259952545E+00, 1.343610048294E+00, 2.792229890823E+00, 255, 255, 255],\n",
    "    [1.419679999352E+00, 2.067719936371E+00, 2.833199977875E+00, 255, 255, 255],\n",
    "])"
   ]
  },
  {
   "cell_type": "markdown",
   "id": "ac05e88a",
   "metadata": {},
   "source": [
    "### Yellow"
   ]
  },
  {
   "cell_type": "code",
   "execution_count": 4,
   "id": "2e852cd2",
   "metadata": {},
   "outputs": [],
   "source": [
    "yellow_polyline = np.array([\n",
    "    [8.786039948463E-01, -1.391369998455E-01, 5.187849998474E+00, 255, 255, 255],\n",
    "    [8.309419751167E-01, 1.031540036201E-01, 5.227940082550E+00, 255, 255, 255],\n",
    "    [7.717400193214E-01, 1.450600028038E-01, 5.208700180054E+00, 255, 255, 255],\n",
    "    [5.449720025063E-01, 8.042230010033E-01, 4.987659931183E+00, 255, 255, 255],\n",
    "    [4.101229906082E-01, 9.882419705391E-01, 4.878980159760E+00, 255, 255, 255],\n",
    "    [3.861240148544E-01, 1.497460007668E+00, 4.794400215149E+00, 255, 255, 255],\n",
    "    [2.997510135174E-01, 1.528069972992E+00, 4.036129951477E+00, 255, 255, 255],\n",
    "    [4.844210147858E-01, 2.060509920120E+00, 4.073040008545E+00, 255, 255, 255]\n",
    "])"
   ]
  },
  {
   "cell_type": "markdown",
   "id": "d6a47da3",
   "metadata": {},
   "source": [
    "### Blue"
   ]
  },
  {
   "cell_type": "code",
   "execution_count": 5,
   "id": "a9015f2e",
   "metadata": {},
   "outputs": [],
   "source": [
    "blue_polyline = np.array([\n",
    "    [-6.572080254555E-01, 1.240900039673E+00, 2.931509971619E+00, 255, 255, 255],\n",
    "    [-6.939949989319E-01, 1.198469996452E+00, 3.038789987564E+00, 255, 255, 255],\n",
    "    [-6.402289867401E-01, 1.131819963455E+00, 2.981800079346E+00, 255, 255, 255],\n",
    "    [-5.913980007172E-01, 1.158139944077E+00, 2.861429929733E+00, 255, 255, 255],\n",
    "    [-6.572080254555E-01, 1.240900039673E+00, 2.931509971619E+00, 255, 255, 255]\n",
    "])"
   ]
  },
  {
   "cell_type": "markdown",
   "id": "89ced7d0",
   "metadata": {},
   "source": [
    "### Red"
   ]
  },
  {
   "cell_type": "code",
   "execution_count": 6,
   "id": "e393490f",
   "metadata": {},
   "outputs": [],
   "source": [
    "red_polyline = np.array([\n",
    "    [1.359150052071E+00, -4.094719886780E-01, 1.373669981956E+00, 255, 255, 255],\n",
    "    [1.052219986916E+00, -1.273890025914E-02, 1.117300033569E+00, 255, 255, 255],\n",
    "    [6.996499896049E-01, 1.551609933376E-01, 1.259979963303E+00, 255, 255, 255],\n",
    "    [4.651759862900E-01, 2.271769940853E-01, 1.447430014610E+00, 255, 255, 255],\n",
    "    [5.874119997025E-01, 4.343109950423E-02, 1.556470036507E+00, 255, 255, 255],\n",
    "    [7.467389702797E-01, -8.026939630508E-02, 1.528660058975E+00, 255, 255, 255],\n",
    "    [9.594820141792E-01, -2.254000008106E-01, 1.551689982414E+00, 255, 255, 255],\n",
    "    [1.106259942055E+00, -4.076380133629E-01, 1.612190008163E+00, 255, 255, 255],\n",
    "    [1.359150052071E+00, -4.094719886780E-01, 1.373669981956E+00, 255, 255, 255]\n",
    "])"
   ]
  },
  {
   "cell_type": "code",
   "execution_count": 7,
   "id": "dbf43c46",
   "metadata": {},
   "outputs": [],
   "source": [
    "blue_visibility = from_json(PROJECT_DIR.joinpath('visibility', 'BluePolyline.json'))\n",
    "red_visibility = from_json(PROJECT_DIR.joinpath('visibility', 'RedPolyline.json'))\n",
    "yellow_visibility = from_json(PROJECT_DIR.joinpath('visibility', 'YellowPolyline.json'))\n",
    "green_visibility = from_json(PROJECT_DIR.joinpath('visibility', 'GreenPolyline.json'))"
   ]
  },
  {
   "cell_type": "code",
   "execution_count": 8,
   "id": "a99145e1",
   "metadata": {},
   "outputs": [],
   "source": [
    "polylines = [\n",
    "    (green_polyline, green_visibility, (0, 1, 0.5)), \n",
    "    (yellow_polyline, yellow_visibility, (1, 1, 0)),\n",
    "    (red_polyline, red_visibility, (1, 0, 0)),\n",
    "    (blue_polyline, blue_visibility, (0, 170/255, 1)),\n",
    "]"
   ]
  },
  {
   "cell_type": "markdown",
   "id": "b3a31ae4",
   "metadata": {},
   "source": [
    "## Functions"
   ]
  },
  {
   "cell_type": "code",
   "execution_count": 9,
   "id": "9558e1f2",
   "metadata": {},
   "outputs": [],
   "source": [
    "def get_image_coordinates(polyline, K, M):\n",
    "    polyline = np.hstack((polyline[:,:3], np.ones((polyline.shape[0], 1))))\n",
    "    points = np.matmul(K, np.matmul(M, polyline.T))\n",
    "    return np.divide(points, points[-1,:]).astype(int)"
   ]
  },
  {
   "cell_type": "code",
   "execution_count": 10,
   "id": "a939faa6",
   "metadata": {},
   "outputs": [],
   "source": [
    "def calculate_visibility(vertices: List[Vertex], eye: List[float]) -> np.array:\n",
    "    n = int(np.sqrt(len(vertices[0].visibility_grid)))\n",
    "    u, v = get_spherical_coordinates(n)\n",
    "    P = np.array([[v.x, v.y, v.z] for v in vertices])\n",
    "    delta = eye - P\n",
    "    R = np.sqrt(np.sum(np.square(delta), axis=1))\n",
    "    polar_angle = (np.arccos(delta[:, 2]/R) % np.pi).reshape(-1, 1)\n",
    "    azimuthal_angle = (np.arctan2(delta[:, 1], delta[:, 0]) % (2 * np.pi)).reshape(-1, 1)\n",
    "    azimuthal_idx = np.argmin(np.abs(u - azimuthal_angle), axis=1)\n",
    "    polar_idx = np.argmin(np.abs(v - polar_angle), axis=1)\n",
    "    poly_vis_idx = polar_idx*n+azimuthal_idx\n",
    "    nn_visibility = [vertex.visibility_grid[vis_idx] for vis_idx, vertex in zip(poly_vis_idx, vertices)]\n",
    "    return nn_visibility >= R"
   ]
  },
  {
   "cell_type": "code",
   "execution_count": 18,
   "id": "c2efce15",
   "metadata": {},
   "outputs": [],
   "source": [
    "def plot_polyline(image_coords, node_visibility, edges, color):\n",
    "    if not np.any(node_visibility):\n",
    "        return \n",
    "    # plt.scatter(\n",
    "    #     x=image_coords[:, ~node_visibility][0], \n",
    "    #     y=image_coords[:, ~node_visibility][1], \n",
    "    #     facecolors='none', \n",
    "    #     edgecolors=color\n",
    "    # )\n",
    "    plt.scatter(\n",
    "        x=image_coords[:, node_visibility][0], \n",
    "        y=image_coords[:, node_visibility][1], \n",
    "        facecolors=color,\n",
    "        edgecolors=color\n",
    "    )\n",
    "    for edge in edges:\n",
    "        v1_visible = node_visibility[edge.vertex1]\n",
    "        v2_visible = node_visibility[edge.vertex2]\n",
    "        coords = image_coords[:, [edge.vertex1, edge.vertex2]]\n",
    "        if v1_visible and v2_visible:\n",
    "            plt.plot(coords[0], coords[1], '-', c=color)\n",
    "        elif v1_visible or v2_visible:\n",
    "            plt.plot(coords[0], coords[1], '--', c=color)\n"
   ]
  },
  {
   "cell_type": "code",
   "execution_count": 69,
   "id": "eb3520c0",
   "metadata": {},
   "outputs": [],
   "source": [
    "def is_inside_image(curr_image_coords, image_width, image_height):\n",
    "    return np.logical_and(\n",
    "        np.logical_and(\n",
    "            curr_image_coords[0] >= 0, \n",
    "            curr_image_coords[0] <= image_width,\n",
    "        ),\n",
    "        np.logical_and(\n",
    "            curr_image_coords[1] >= 0, \n",
    "            curr_image_coords[1] <= image_height\n",
    "        )\n",
    "    )"
   ]
  },
  {
   "cell_type": "markdown",
   "id": "483db4a1",
   "metadata": {},
   "source": [
    "## Camera information"
   ]
  },
  {
   "cell_type": "code",
   "execution_count": 12,
   "id": "1e454b5e",
   "metadata": {},
   "outputs": [],
   "source": [
    "cameras = json.load(cameras_sfm.open('r'))"
   ]
  },
  {
   "cell_type": "code",
   "execution_count": 13,
   "id": "05716b96",
   "metadata": {},
   "outputs": [
    {
     "data": {
      "text/plain": [
       "dict_keys(['version', 'featuresFolders', 'matchesFolders', 'views', 'intrinsics', 'poses'])"
      ]
     },
     "execution_count": 13,
     "metadata": {},
     "output_type": "execute_result"
    }
   ],
   "source": [
    "cameras.keys()"
   ]
  },
  {
   "cell_type": "code",
   "execution_count": 14,
   "id": "ef77709c",
   "metadata": {},
   "outputs": [],
   "source": [
    "intrinsic = cameras['intrinsics'][0]"
   ]
  },
  {
   "cell_type": "code",
   "execution_count": 15,
   "id": "220c3182",
   "metadata": {},
   "outputs": [],
   "source": [
    "K = np.array([\n",
    "    [float(intrinsic[\"pxFocalLength\"]), 0, float(intrinsic[\"principalPoint\"][0]), 0],\n",
    "    [0, float(intrinsic[\"pxFocalLength\"]), float(intrinsic[\"principalPoint\"][1]), 0],\n",
    "    [0, 0, 1, 0]\n",
    "])"
   ]
  },
  {
   "cell_type": "code",
   "execution_count": 67,
   "id": "df5b47fc",
   "metadata": {},
   "outputs": [],
   "source": [
    "views = {view['poseId'] : {\n",
    "    'imgName': view['path'][view['path'].rfind('/')+1:].lower(),\n",
    "    'width': int(view['width']),\n",
    "    'height': int(view['height'])\n",
    "} for view in cameras['views']}    "
   ]
  },
  {
   "cell_type": "code",
   "execution_count": 72,
   "id": "50081fa5",
   "metadata": {},
   "outputs": [
    {
     "name": "stderr",
     "output_type": "stream",
     "text": [
      "100%|██████████████████████████████████████████████████████████████████████████████████| 77/77 [02:21<00:00,  1.84s/it]\n"
     ]
    }
   ],
   "source": [
    "for pose_obj in tqdm(cameras['poses']):\n",
    "    pose = pose_obj['pose']['transform']\n",
    "    view = views[pose_obj['poseId']]\n",
    "    img_name = view['imgName']\n",
    "    im = plt.imread(captured_images.joinpath(img_name))\n",
    "    fig, ax = plt.subplots(figsize=(16,12))\n",
    "    implot = ax.imshow(im)\n",
    "    plt.axis('off')\n",
    "    \n",
    "    R = np.array([float(x) for x in pose[\"rotation\"]]).reshape((3,3), order='F')\n",
    "    C = np.array([[float(x)] for x in pose[\"center\"]])\n",
    "    T = - np.matmul(R, C)\n",
    "    M = np.vstack((np.hstack((R, T)), np.array([0, 0, 0, 1])))\n",
    "    eye = [float(x) for x in pose[\"center\"]]\n",
    "    \n",
    "    for curr_polyline, curr_visibility, curr_color in polylines:\n",
    "        curr_image_coords = get_image_coordinates(curr_polyline, K, M)\n",
    "        curr_is_visible = np.logical_and(\n",
    "            calculate_visibility(curr_visibility.vertices, eye),\n",
    "            is_inside_image(curr_image_coords, view['width'], view['height'])\n",
    "        )\n",
    "        plot_polyline(curr_image_coords, curr_is_visible, curr_visibility.edges, curr_color)\n",
    "    plt.savefig(output_directory.joinpath(img_name), bbox_inches='tight')\n",
    "    plt.close()"
   ]
  },
  {
   "cell_type": "code",
   "execution_count": 80,
   "id": "0af00181",
   "metadata": {},
   "outputs": [
    {
     "name": "stdout",
     "output_type": "stream",
     "text": [
      "1665956728\n"
     ]
    }
   ],
   "source": [
    "for pose_id, view in views.items():\n",
    "    if view['imgName'] == 'img_20230320_151730.jpg':\n",
    "        print(pose_id)"
   ]
  },
  {
   "cell_type": "code",
   "execution_count": 27,
   "id": "37646c9d",
   "metadata": {},
   "outputs": [],
   "source": [
    "poses = {pose['poseId']: pose['pose']['transform'] for pose in cameras['poses']}"
   ]
  },
  {
   "cell_type": "code",
   "execution_count": 81,
   "id": "ab755c94",
   "metadata": {},
   "outputs": [],
   "source": [
    "pose_id = '1665956728'"
   ]
  },
  {
   "cell_type": "code",
   "execution_count": 82,
   "id": "ecc7b94e",
   "metadata": {},
   "outputs": [],
   "source": [
    "pose = poses[pose_id]\n",
    "img_name = views[pose_id]\n",
    "\n",
    "R = np.array([float(x) for x in pose[\"rotation\"]]).reshape((3,3), order='F')\n",
    "C = np.array([[float(x)] for x in pose[\"center\"]])\n",
    "T = - np.matmul(R, C)\n",
    "M = np.vstack((np.hstack((R, T)), np.array([0, 0, 0, 1])))\n",
    "eye = [float(x) for x in pose[\"center\"]]"
   ]
  },
  {
   "cell_type": "code",
   "execution_count": 83,
   "id": "e6fa8605",
   "metadata": {},
   "outputs": [],
   "source": [
    "curr_polyline, curr_visibility, curr_color = polylines[2]\n",
    "curr_image_coords = get_image_coordinates(curr_polyline, K, M)"
   ]
  },
  {
   "cell_type": "code",
   "execution_count": 84,
   "id": "3fbbd8da",
   "metadata": {},
   "outputs": [
    {
     "data": {
      "text/plain": [
       "array([[2416, 2717, 3008, 3164, 3040, 2916, 2736, 2610, 2416],\n",
       "       [2185, 1826, 1678, 1629, 1790, 1894, 2016, 2167, 2185],\n",
       "       [   1,    1,    1,    1,    1,    1,    1,    1,    1]])"
      ]
     },
     "execution_count": 84,
     "metadata": {},
     "output_type": "execute_result"
    }
   ],
   "source": [
    "curr_image_coords"
   ]
  },
  {
   "cell_type": "code",
   "execution_count": 85,
   "id": "95472c21",
   "metadata": {},
   "outputs": [],
   "source": [
    "curr_is_visible = calculate_visibility(curr_visibility.vertices, eye)"
   ]
  },
  {
   "cell_type": "code",
   "execution_count": 90,
   "id": "44b98ddb",
   "metadata": {},
   "outputs": [
    {
     "data": {
      "text/plain": [
       "array([[7.08068833e+00, 6.96573760e+00, 1.15070185e+01, 1.06268901e+01,\n",
       "        7.56558915e+00, 6.43693209e+00, 6.52623218e+00, 7.06671033e+00],\n",
       "       [4.18925280e+00, 7.55833331e+00, 9.39217847e+00, 7.90311859e+00,\n",
       "        4.20856020e-07, 4.85401048e-07, 1.17039035e-04, 1.09239485e+01],\n",
       "       [3.95155484e+00,            inf,            inf, 9.53923508e-07,\n",
       "        6.70684856e-08, 7.29468694e-08, 2.43860496e-06, 6.59604056e+00],\n",
       "       [5.67978545e+00, 3.99810485e+00, 9.15921886e-01, 1.98173284e-07,\n",
       "        3.19629721e-08, 3.42170895e-08, 3.10715987e-07, 4.81566845e+00],\n",
       "       [1.32551100e+00, 3.35407875e-01, 8.89501734e-02, 1.02279026e-07,\n",
       "        2.38598347e-08, 2.53033686e-08, 1.39804553e-07, 8.00171474e-01],\n",
       "       [6.67455475e-02, 4.73269451e-02, 3.72960911e-02, 8.01914593e-08,\n",
       "        2.46537850e-08, 2.59312017e-08, 1.00921203e-07, 7.45884956e-03],\n",
       "       [1.91265371e-02, 2.14820912e-02, 2.68096160e-06, 8.65986930e-08,\n",
       "        3.56789887e-08, 3.71538298e-08, 1.01300182e-07, 7.95769249e-06],\n",
       "       [9.74284791e-07, 9.06368863e-07, 3.19603362e-07, 1.32455040e-07,\n",
       "        8.58248967e-08, 8.77302974e-08, 1.41575923e-07, 3.54780418e-07]])"
      ]
     },
     "execution_count": 90,
     "metadata": {},
     "output_type": "execute_result"
    }
   ],
   "source": [
    "np.array(curr_visibility.vertices[3].visibility_grid).reshape((8, 8))"
   ]
  },
  {
   "cell_type": "code",
   "execution_count": 86,
   "id": "1c888f78",
   "metadata": {},
   "outputs": [
    {
     "data": {
      "text/plain": [
       "array([ True,  True,  True, False,  True,  True,  True,  True,  True])"
      ]
     },
     "execution_count": 86,
     "metadata": {},
     "output_type": "execute_result"
    }
   ],
   "source": [
    "curr_is_visible"
   ]
  },
  {
   "cell_type": "code",
   "execution_count": 77,
   "id": "7d20765f",
   "metadata": {},
   "outputs": [
    {
     "data": {
      "text/plain": [
       "'img_20230320_153614.jpg'"
      ]
     },
     "execution_count": 77,
     "metadata": {},
     "output_type": "execute_result"
    }
   ],
   "source": [
    "img_name"
   ]
  },
  {
   "cell_type": "code",
   "execution_count": 78,
   "id": "3eabab04",
   "metadata": {},
   "outputs": [
    {
     "name": "stdout",
     "output_type": "stream",
     "text": [
      "[False False False False False False False False False]\n",
      "[False False False False False False False False False]\n"
     ]
    }
   ],
   "source": [
    "w = 4000\n",
    "h = 3000\n",
    "\n",
    "print(np.logical_and(curr_image_coords[0] >= 0, curr_image_coords[0] <= w))\n",
    "print(np.logical_and(curr_image_coords[1] >= 0, curr_image_coords[1] <= h))"
   ]
  },
  {
   "cell_type": "code",
   "execution_count": null,
   "id": "0c0f7b59",
   "metadata": {},
   "outputs": [],
   "source": []
  }
 ],
 "metadata": {
  "kernelspec": {
   "display_name": "topoutils",
   "language": "python",
   "name": "topoutils"
  },
  "language_info": {
   "codemirror_mode": {
    "name": "ipython",
    "version": 3
   },
   "file_extension": ".py",
   "mimetype": "text/x-python",
   "name": "python",
   "nbconvert_exporter": "python",
   "pygments_lexer": "ipython3",
   "version": "3.11.3"
  }
 },
 "nbformat": 4,
 "nbformat_minor": 5
}
