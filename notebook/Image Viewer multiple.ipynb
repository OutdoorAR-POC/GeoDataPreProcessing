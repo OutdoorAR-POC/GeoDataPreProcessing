{
 "cells": [
  {
   "cell_type": "markdown",
   "id": "db417236",
   "metadata": {},
   "source": [
    "# Image Viewer for all images in a batch"
   ]
  },
  {
   "cell_type": "code",
   "execution_count": 72,
   "id": "2d04cbfd",
   "metadata": {},
   "outputs": [],
   "source": [
    "import sys\n",
    "from pathlib import Path\n",
    "from typing import List\n",
    "\n",
    "import json\n",
    "import matplotlib.pyplot as plt\n",
    "import numpy as np\n",
    "from tqdm import tqdm\n",
    "\n",
    "from topoutils.constants import PROJECT_DIR\n",
    "from topoutils.sphere_sampling import get_spherical_coordinates\n",
    "from topoutils.visibility import Vertex, from_json\n",
    "\n",
    "sys.path.insert(0, '..')"
   ]
  },
  {
   "cell_type": "code",
   "execution_count": 73,
   "id": "723507e3",
   "metadata": {},
   "outputs": [],
   "source": [
    "assets = Path(r'e:\\android_projects\\ImageViewer')\n",
    "captured_images = assets.joinpath('capturedImages')\n",
    "cameras_sfm = PROJECT_DIR.joinpath('cameras', 'cameras.sfm')"
   ]
  },
  {
   "cell_type": "markdown",
   "id": "7dc6062a",
   "metadata": {},
   "source": [
    "## Sample polylines\n",
    "### Green"
   ]
  },
  {
   "cell_type": "code",
   "execution_count": 74,
   "id": "7712aa01",
   "metadata": {},
   "outputs": [],
   "source": [
    "green_polyline = np.array([\n",
    "    [2.097919940948E+00, 1.610359922051E-02, 2.190779924393E+00, 255, 255, 255],\n",
    "    [1.971269965172E+00, 2.922860085964E-01, 2.525049924850E+00, 255, 255, 255],\n",
    "    [1.83196E+00, 7.04518E-01, 2.65416E+00, 255, 255, 255],\n",
    "    [1.789610028267E+00, 1.110649943352E+00, 2.692329883575E+00, 255, 255, 255],\n",
    "    [1.545259952545E+00, 1.343610048294E+00, 2.792229890823E+00, 255, 255, 255],\n",
    "    [1.419679999352E+00, 2.067719936371E+00, 2.833199977875E+00, 255, 255, 255],\n",
    "])"
   ]
  },
  {
   "cell_type": "markdown",
   "id": "ac05e88a",
   "metadata": {},
   "source": [
    "### Yellow"
   ]
  },
  {
   "cell_type": "code",
   "execution_count": 75,
   "id": "2e852cd2",
   "metadata": {},
   "outputs": [],
   "source": [
    "yellow_polyline = np.array([\n",
    "    [8.786039948463E-01, -1.391369998455E-01, 5.187849998474E+00, 255, 255, 255],\n",
    "    [8.309419751167E-01, 1.031540036201E-01, 5.227940082550E+00, 255, 255, 255],\n",
    "    [7.717400193214E-01, 1.450600028038E-01, 5.208700180054E+00, 255, 255, 255],\n",
    "    [5.449720025063E-01, 8.042230010033E-01, 4.987659931183E+00, 255, 255, 255],\n",
    "    [4.101229906082E-01, 9.882419705391E-01, 4.878980159760E+00, 255, 255, 255],\n",
    "    [3.861240148544E-01, 1.497460007668E+00, 4.794400215149E+00, 255, 255, 255],\n",
    "    [2.997510135174E-01, 1.528069972992E+00, 4.036129951477E+00, 255, 255, 255],\n",
    "    [4.844210147858E-01, 2.060509920120E+00, 4.073040008545E+00, 255, 255, 255]\n",
    "])"
   ]
  },
  {
   "cell_type": "markdown",
   "id": "d6a47da3",
   "metadata": {},
   "source": [
    "### Blue"
   ]
  },
  {
   "cell_type": "code",
   "execution_count": 76,
   "id": "a9015f2e",
   "metadata": {},
   "outputs": [],
   "source": [
    "blue_polyline = np.array([\n",
    "    [-6.572080254555E-01, 1.240900039673E+00, 2.931509971619E+00, 255, 255, 255],\n",
    "    [-6.939949989319E-01, 1.198469996452E+00, 3.038789987564E+00, 255, 255, 255],\n",
    "    [-6.402289867401E-01, 1.131819963455E+00, 2.981800079346E+00, 255, 255, 255],\n",
    "    [-5.913980007172E-01, 1.158139944077E+00, 2.861429929733E+00, 255, 255, 255],\n",
    "    [-6.572080254555E-01, 1.240900039673E+00, 2.931509971619E+00, 255, 255, 255]\n",
    "])"
   ]
  },
  {
   "cell_type": "markdown",
   "id": "89ced7d0",
   "metadata": {},
   "source": [
    "### Red"
   ]
  },
  {
   "cell_type": "code",
   "execution_count": 77,
   "id": "e393490f",
   "metadata": {},
   "outputs": [],
   "source": [
    "red_polyline = np.array([\n",
    "    [1.359150052071E+00, -4.094719886780E-01, 1.373669981956E+00, 255, 255, 255],\n",
    "    [1.052219986916E+00, -1.273890025914E-02, 1.117300033569E+00, 255, 255, 255],\n",
    "    [7.79443E-01, 1.24142E-01, 1.194797E+00, 255, 255, 255],\n",
    "    [4.97258E-01, 1.89861E-01, 1.46525E+00, 255, 255, 255],\n",
    "    [5.874119997025E-01, 4.343109950423E-02, 1.556470036507E+00, 255, 255, 255],\n",
    "    [6.33452E-01, 1.4838E-02, 1.501833E+00, 255, 255, 255],\n",
    "    [7.467389702797E-01, -8.026939630508E-02, 1.528660058975E+00, 255, 255, 255],\n",
    "    [9.68015E-01, -1.91973E-01, 1.548352E+00, 255, 255, 255],\n",
    "    [1.106259942055E+00, -4.076380133629E-01, 1.612190008163E+00, 255, 255, 255],\n",
    "    [1.359150052071E+00, -4.094719886780E-01, 1.373669981956E+00, 255, 255, 255]\n",
    "])"
   ]
  },
  {
   "cell_type": "code",
   "execution_count": 78,
   "id": "47eccc63",
   "metadata": {},
   "outputs": [],
   "source": [
    "# n_range = [2,4,8,16]\n",
    "n = 16"
   ]
  },
  {
   "cell_type": "code",
   "execution_count": 79,
   "id": "dbf43c46",
   "metadata": {},
   "outputs": [],
   "source": [
    "visibility_folder = PROJECT_DIR.joinpath('visibility', f'n_{n}')\n",
    "blue_visibility = from_json(visibility_folder.joinpath('BluePolyline.json'))\n",
    "red_visibility = from_json(visibility_folder.joinpath('RedPolyline.json'))\n",
    "yellow_visibility = from_json(visibility_folder.joinpath('YellowPolyline.json'))\n",
    "green_visibility = from_json(visibility_folder.joinpath('GreenPolyline.json'))"
   ]
  },
  {
   "cell_type": "code",
   "execution_count": 80,
   "id": "a99145e1",
   "metadata": {},
   "outputs": [],
   "source": [
    "polylines = [\n",
    "    (green_polyline, green_visibility, (0, 1, 0.5)), \n",
    "    (yellow_polyline, yellow_visibility, (1, 1, 0)),\n",
    "    (red_polyline, red_visibility, (1, 0, 0)),\n",
    "    (blue_polyline, blue_visibility, (0, 170/255, 1)),\n",
    "]"
   ]
  },
  {
   "cell_type": "code",
   "execution_count": 81,
   "id": "6d5d2d30",
   "metadata": {},
   "outputs": [],
   "source": [
    "output_directory = Path('.').resolve().joinpath(f'output_{n}')\n",
    "output_directory.mkdir(exist_ok=True)"
   ]
  },
  {
   "cell_type": "markdown",
   "id": "b3a31ae4",
   "metadata": {},
   "source": [
    "## Functions"
   ]
  },
  {
   "cell_type": "code",
   "execution_count": 82,
   "id": "9558e1f2",
   "metadata": {},
   "outputs": [],
   "source": [
    "def get_image_coordinates(polyline, K, M):\n",
    "    polyline = np.hstack((polyline[:,:3], np.ones((polyline.shape[0], 1))))\n",
    "    points = np.matmul(K, np.matmul(M, polyline.T))\n",
    "    return np.divide(points, points[-1,:]).astype(int)"
   ]
  },
  {
   "cell_type": "code",
   "execution_count": 83,
   "id": "a939faa6",
   "metadata": {},
   "outputs": [],
   "source": [
    "def calculate_visibility(vertices: List[Vertex], eye: List[float]) -> np.array:\n",
    "    n = int(np.sqrt(len(vertices[0].visibility_grid)))\n",
    "    u, v = get_spherical_coordinates(n)\n",
    "    P = np.array([[v.x, v.y, v.z] for v in vertices])\n",
    "    delta = eye - P\n",
    "    R = np.sqrt(np.sum(np.square(delta), axis=1))\n",
    "    polar_angle = (np.arccos(delta[:, 2]/R) % np.pi).reshape(-1, 1)\n",
    "    azimuthal_angle = (np.arctan2(delta[:, 1], delta[:, 0]) % (2 * np.pi)).reshape(-1, 1)\n",
    "    azimuthal_idx = np.argmin(np.abs(u - azimuthal_angle), axis=1)\n",
    "    polar_idx = np.argmin(np.abs(v - polar_angle), axis=1)\n",
    "    poly_vis_idx = polar_idx*n+azimuthal_idx\n",
    "    nn_visibility = [vertex.visibility_grid[vis_idx] for vis_idx, vertex in zip(poly_vis_idx, vertices)]\n",
    "    return nn_visibility >= R"
   ]
  },
  {
   "cell_type": "code",
   "execution_count": 84,
   "id": "b05590bd",
   "metadata": {},
   "outputs": [],
   "source": [
    "def clip(coords, image_width, image_height):\n",
    "    return np.maximum(np.minimum(coords, np.array([[image_width], [image_height], [1]])), 0)"
   ]
  },
  {
   "cell_type": "code",
   "execution_count": 85,
   "id": "c2efce15",
   "metadata": {},
   "outputs": [],
   "source": [
    "def plot_polyline(image_coords, node_visibility, edges, color, image_width, image_height):\n",
    "    if not np.any(node_visibility):\n",
    "        return \n",
    "    plt.scatter(\n",
    "        x=image_coords[:, node_visibility][0], \n",
    "        y=image_coords[:, node_visibility][1], \n",
    "        facecolors=color,\n",
    "        edgecolors=color\n",
    "    )\n",
    "    for edge in edges:\n",
    "        v1_visible = node_visibility[edge.vertex1]\n",
    "        v2_visible = node_visibility[edge.vertex2]\n",
    "        coords = clip(image_coords[:, [edge.vertex1, edge.vertex2]], image_width, image_height)\n",
    "        if v1_visible and v2_visible:\n",
    "            plt.plot(coords[0], coords[1], '-', c=color)\n",
    "        elif v1_visible or v2_visible:\n",
    "            plt.plot(coords[0], coords[1], '--', c=color)\n"
   ]
  },
  {
   "cell_type": "code",
   "execution_count": 86,
   "id": "eb3520c0",
   "metadata": {},
   "outputs": [],
   "source": [
    "def is_inside_image(curr_image_coords, image_width, image_height):\n",
    "    return np.logical_and(\n",
    "        np.logical_and(\n",
    "            curr_image_coords[0] >= 0, \n",
    "            curr_image_coords[0] <= image_width,\n",
    "        ),\n",
    "        np.logical_and(\n",
    "            curr_image_coords[1] >= 0, \n",
    "            curr_image_coords[1] <= image_height\n",
    "        )\n",
    "    )"
   ]
  },
  {
   "cell_type": "markdown",
   "id": "483db4a1",
   "metadata": {},
   "source": [
    "## Camera information"
   ]
  },
  {
   "cell_type": "code",
   "execution_count": 87,
   "id": "1e454b5e",
   "metadata": {},
   "outputs": [],
   "source": [
    "cameras = json.load(cameras_sfm.open('r'))"
   ]
  },
  {
   "cell_type": "code",
   "execution_count": 88,
   "id": "05716b96",
   "metadata": {},
   "outputs": [
    {
     "data": {
      "text/plain": [
       "dict_keys(['version', 'featuresFolders', 'matchesFolders', 'views', 'intrinsics', 'poses'])"
      ]
     },
     "execution_count": 88,
     "metadata": {},
     "output_type": "execute_result"
    }
   ],
   "source": [
    "cameras.keys()"
   ]
  },
  {
   "cell_type": "code",
   "execution_count": 89,
   "id": "ef77709c",
   "metadata": {},
   "outputs": [],
   "source": [
    "intrinsic = cameras['intrinsics'][0]"
   ]
  },
  {
   "cell_type": "code",
   "execution_count": 90,
   "id": "220c3182",
   "metadata": {},
   "outputs": [],
   "source": [
    "K = np.array([\n",
    "    [float(intrinsic[\"pxFocalLength\"]), 0, float(intrinsic[\"principalPoint\"][0]), 0],\n",
    "    [0, float(intrinsic[\"pxFocalLength\"]), float(intrinsic[\"principalPoint\"][1]), 0],\n",
    "    [0, 0, 1, 0]\n",
    "])"
   ]
  },
  {
   "cell_type": "code",
   "execution_count": 91,
   "id": "df5b47fc",
   "metadata": {},
   "outputs": [],
   "source": [
    "views = {view['poseId'] : {\n",
    "    'imgName': view['path'][view['path'].rfind('/')+1:].upper(),\n",
    "    'width': int(view['width']),\n",
    "    'height': int(view['height'])\n",
    "} for view in cameras['views']}    "
   ]
  },
  {
   "cell_type": "code",
   "execution_count": 92,
   "id": "50081fa5",
   "metadata": {},
   "outputs": [
    {
     "name": "stderr",
     "output_type": "stream",
     "text": [
      "100%|██████████████████████████████████████████████████████████████████████████████████| 77/77 [02:17<00:00,  1.78s/it]\n"
     ]
    }
   ],
   "source": [
    "for pose_obj in tqdm(cameras['poses']):\n",
    "    pose = pose_obj['pose']['transform']\n",
    "    view = views[pose_obj['poseId']]\n",
    "    img_name = view['imgName']\n",
    "    im = plt.imread(captured_images.joinpath(img_name))\n",
    "    fig, ax = plt.subplots(figsize=(16,12))\n",
    "    implot = ax.imshow(im)\n",
    "    plt.axis('off')\n",
    "    \n",
    "    R = np.array([float(x) for x in pose[\"rotation\"]]).reshape((3,3), order='F')\n",
    "    C = np.array([[float(x)] for x in pose[\"center\"]])\n",
    "    T = - np.matmul(R, C)\n",
    "    M = np.vstack((np.hstack((R, T)), np.array([0, 0, 0, 1])))\n",
    "    eye = [float(x) for x in pose[\"center\"]]\n",
    "    \n",
    "    image_width, image_height = view['width'], view['height']\n",
    "    \n",
    "    for curr_polyline, curr_visibility, curr_color in polylines:\n",
    "        curr_image_coords = get_image_coordinates(curr_polyline, K, M)\n",
    "        curr_is_visible = np.logical_and(\n",
    "            calculate_visibility(curr_visibility.vertices, eye),\n",
    "            is_inside_image(curr_image_coords, image_width, image_height)\n",
    "        )\n",
    "        plot_polyline(curr_image_coords, curr_is_visible, curr_visibility.edges, curr_color, image_width, image_height)\n",
    "    plt.savefig(output_directory.joinpath(img_name), bbox_inches='tight')\n",
    "    plt.close()"
   ]
  },
  {
   "cell_type": "code",
   "execution_count": null,
   "id": "0c0f7b59",
   "metadata": {},
   "outputs": [],
   "source": []
  }
 ],
 "metadata": {
  "kernelspec": {
   "display_name": "topoutils",
   "language": "python",
   "name": "topoutils"
  },
  "language_info": {
   "codemirror_mode": {
    "name": "ipython",
    "version": 3
   },
   "file_extension": ".py",
   "mimetype": "text/x-python",
   "name": "python",
   "nbconvert_exporter": "python",
   "pygments_lexer": "ipython3",
   "version": "3.11.3"
  }
 },
 "nbformat": 4,
 "nbformat_minor": 5
}
