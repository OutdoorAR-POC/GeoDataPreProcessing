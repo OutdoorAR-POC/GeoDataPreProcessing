{
 "cells": [
  {
   "cell_type": "markdown",
   "id": "5ac16a9f",
   "metadata": {},
   "source": [
    "# Image Viewer for all images in a batch"
   ]
  },
  {
   "cell_type": "code",
   "execution_count": 1,
   "id": "2d04cbfd",
   "metadata": {},
   "outputs": [],
   "source": [
    "import sys\n",
    "from pathlib import Path\n",
    "from typing import List\n",
    "\n",
    "import json\n",
    "import matplotlib.pyplot as plt\n",
    "import numpy as np\n",
    "from tqdm import tqdm\n",
    "\n",
    "from topoutils.constants import PROJECT_DIR\n",
    "from topoutils.sphere_sampling import get_spherical_coordinates\n",
    "from topoutils.visibility import Vertex, from_json\n",
    "\n",
    "sys.path.insert(0, '..')"
   ]
  },
  {
   "cell_type": "code",
   "execution_count": 2,
   "id": "8ec6249e",
   "metadata": {},
   "outputs": [],
   "source": [
    "assets = Path(r'd:\\android_apps\\ImageViewer\\app\\src\\main\\assets')\n",
    "captured_images = assets.joinpath('capturedImages')\n",
    "cameras_sfm = assets.joinpath('paths', 'cameras.sfm')\n",
    "output_directory = Path('.').resolve().joinpath('output')\n",
    "output_directory.mkdir(exist_ok=True)"
   ]
  },
  {
   "cell_type": "markdown",
   "id": "7dc6062a",
   "metadata": {},
   "source": [
    "## Sample polylines\n",
    "### Green"
   ]
  },
  {
   "cell_type": "code",
   "execution_count": 3,
   "id": "7712aa01",
   "metadata": {},
   "outputs": [],
   "source": [
    "green_polyline = np.array([\n",
    "    [2.097919940948E+00, 1.610359922051E-02, 2.190779924393E+00, 255, 255, 255],\n",
    "    [1.971269965172E+00, 2.922860085964E-01, 2.525049924850E+00, 255, 255, 255],\n",
    "    [1.777729988098E+00, 6.717010140419E-01, 2.703690052032E+00, 255, 255, 255],\n",
    "    [1.789610028267E+00, 1.110649943352E+00, 2.692329883575E+00, 255, 255, 255],\n",
    "    [1.545259952545E+00, 1.343610048294E+00, 2.792229890823E+00, 255, 255, 255],\n",
    "    [1.419679999352E+00, 2.067719936371E+00, 2.833199977875E+00, 255, 255, 255],\n",
    "])"
   ]
  },
  {
   "cell_type": "markdown",
   "id": "ac05e88a",
   "metadata": {},
   "source": [
    "### Yellow"
   ]
  },
  {
   "cell_type": "code",
   "execution_count": 4,
   "id": "2e852cd2",
   "metadata": {},
   "outputs": [],
   "source": [
    "yellow_polyline = np.array([\n",
    "    [8.786039948463E-01, -1.391369998455E-01, 5.187849998474E+00, 255, 255, 255],\n",
    "    [8.309419751167E-01, 1.031540036201E-01, 5.227940082550E+00, 255, 255, 255],\n",
    "    [7.717400193214E-01, 1.450600028038E-01, 5.208700180054E+00, 255, 255, 255],\n",
    "    [5.449720025063E-01, 8.042230010033E-01, 4.987659931183E+00, 255, 255, 255],\n",
    "    [4.101229906082E-01, 9.882419705391E-01, 4.878980159760E+00, 255, 255, 255],\n",
    "    [3.861240148544E-01, 1.497460007668E+00, 4.794400215149E+00, 255, 255, 255],\n",
    "    [2.997510135174E-01, 1.528069972992E+00, 4.036129951477E+00, 255, 255, 255],\n",
    "    [4.844210147858E-01, 2.060509920120E+00, 4.073040008545E+00, 255, 255, 255]\n",
    "])"
   ]
  },
  {
   "cell_type": "markdown",
   "id": "d6a47da3",
   "metadata": {},
   "source": [
    "### Blue"
   ]
  },
  {
   "cell_type": "code",
   "execution_count": 5,
   "id": "a9015f2e",
   "metadata": {},
   "outputs": [],
   "source": [
    "blue_polyline = np.array([\n",
    "    [-6.572080254555E-01, 1.240900039673E+00, 2.931509971619E+00, 255, 255, 255],\n",
    "    [-6.939949989319E-01, 1.198469996452E+00, 3.038789987564E+00, 255, 255, 255],\n",
    "    [-6.402289867401E-01, 1.131819963455E+00, 2.981800079346E+00, 255, 255, 255],\n",
    "    [-5.913980007172E-01, 1.158139944077E+00, 2.861429929733E+00, 255, 255, 255],\n",
    "    [-6.572080254555E-01, 1.240900039673E+00, 2.931509971619E+00, 255, 255, 255]\n",
    "])"
   ]
  },
  {
   "cell_type": "markdown",
   "id": "89ced7d0",
   "metadata": {},
   "source": [
    "### Red"
   ]
  },
  {
   "cell_type": "code",
   "execution_count": 6,
   "id": "e393490f",
   "metadata": {},
   "outputs": [],
   "source": [
    "red_polyline = np.array([\n",
    "    [1.359150052071E+00, -4.094719886780E-01, 1.373669981956E+00, 255, 255, 255],\n",
    "    [1.052219986916E+00, -1.273890025914E-02, 1.117300033569E+00, 255, 255, 255],\n",
    "    [6.996499896049E-01, 1.551609933376E-01, 1.259979963303E+00, 255, 255, 255],\n",
    "    [4.651759862900E-01, 2.271769940853E-01, 1.447430014610E+00, 255, 255, 255],\n",
    "    [5.874119997025E-01, 4.343109950423E-02, 1.556470036507E+00, 255, 255, 255],\n",
    "    [7.467389702797E-01, -8.026939630508E-02, 1.528660058975E+00, 255, 255, 255],\n",
    "    [9.594820141792E-01, -2.254000008106E-01, 1.551689982414E+00, 255, 255, 255],\n",
    "    [1.106259942055E+00, -4.076380133629E-01, 1.612190008163E+00, 255, 255, 255],\n",
    "    [1.359150052071E+00, -4.094719886780E-01, 1.373669981956E+00, 255, 255, 255]\n",
    "])"
   ]
  },
  {
   "cell_type": "code",
   "execution_count": 7,
   "id": "dbf43c46",
   "metadata": {},
   "outputs": [],
   "source": [
    "blue_visibility = from_json(PROJECT_DIR.joinpath('visibility', 'BluePolyline.json'))\n",
    "red_visibility = from_json(PROJECT_DIR.joinpath('visibility', 'RedPolyline.json'))\n",
    "yellow_visibility = from_json(PROJECT_DIR.joinpath('visibility', 'YellowPolyline.json'))\n",
    "green_visibility = from_json(PROJECT_DIR.joinpath('visibility', 'GreenPolyline.json'))"
   ]
  },
  {
   "cell_type": "code",
   "execution_count": 8,
   "id": "277b5df8",
   "metadata": {},
   "outputs": [],
   "source": [
    "polylines = [\n",
    "    (green_polyline, green_visibility, (0, 1, 0.5)), \n",
    "    (yellow_polyline, yellow_visibility, (1, 1, 0)),\n",
    "    (red_polyline, red_visibility, (1, 0, 0)),\n",
    "    (blue_polyline, blue_visibility, (0, 170/255, 1)),\n",
    "]"
   ]
  },
  {
   "cell_type": "markdown",
   "id": "144f8ac2",
   "metadata": {},
   "source": [
    "## Functions"
   ]
  },
  {
   "cell_type": "code",
   "execution_count": 9,
   "id": "51aad43e",
   "metadata": {},
   "outputs": [],
   "source": [
    "def get_image_coordinates(polyline, K, M):\n",
    "    polyline = np.hstack((polyline[:,:3], np.ones((polyline.shape[0], 1))))\n",
    "    points = np.matmul(K, np.matmul(M, polyline.T))\n",
    "    return np.divide(points, points[-1,:]).astype(int)"
   ]
  },
  {
   "cell_type": "code",
   "execution_count": 10,
   "id": "1f7b3a9c",
   "metadata": {},
   "outputs": [],
   "source": [
    "def calculate_visibility(vertices: List[Vertex], eye: List[float]) -> np.array:\n",
    "    n = int(np.sqrt(len(vertices[0].visibility_grid)))\n",
    "    u, v = get_spherical_coordinates(n)\n",
    "    P = np.array([[v.x, v.y, v.z] for v in vertices])\n",
    "    delta = eye - P\n",
    "    R = np.sqrt(np.sum(np.square(delta), axis=1))\n",
    "    polar_angle = (np.arccos(delta[:, 2]/R) % np.pi).reshape(-1, 1)\n",
    "    azimuthal_angle = (np.arctan2(delta[:, 1], delta[:, 0]) % (2 * np.pi)).reshape(-1, 1)\n",
    "    azimuthal_idx = np.argmin(np.abs(u - azimuthal_angle), axis=1)\n",
    "    polar_idx = np.argmin(np.abs(v - polar_angle), axis=1)\n",
    "    poly_vis_idx = polar_idx*n+azimuthal_idx\n",
    "    nn_visibility = [vertex.visibility_grid[vis_idx] for vis_idx, vertex in zip(poly_vis_idx, vertices)]\n",
    "    return nn_visibility >= R"
   ]
  },
  {
   "cell_type": "code",
   "execution_count": 11,
   "id": "336aa5eb",
   "metadata": {},
   "outputs": [],
   "source": [
    "def plot_polyline(image_coords, node_visibility, edges, color):\n",
    "    if not np.any(node_visibility):\n",
    "        return \n",
    "    plt.scatter(\n",
    "        x=image_coords[:, ~node_visibility][0], \n",
    "        y=image_coords[:, ~node_visibility][1], \n",
    "        facecolors='none', \n",
    "        edgecolors=color\n",
    "    )\n",
    "    plt.scatter(\n",
    "        x=image_coords[:, node_visibility][0], \n",
    "        y=image_coords[:, node_visibility][1], \n",
    "        facecolors=color,\n",
    "        edgecolors=color\n",
    "    )\n",
    "    for edge in edges:\n",
    "        v1_visible = node_visibility[edge.vertex1]\n",
    "        v2_visible = node_visibility[edge.vertex2]\n",
    "        coords = image_coords[:, [edge.vertex1, edge.vertex2]]\n",
    "        if v1_visible and v2_visible:\n",
    "            plt.plot(coords[0], coords[1], '-', c=color)\n",
    "        else:\n",
    "            plt.plot(coords[0], coords[1], '--', c=color)\n"
   ]
  },
  {
   "cell_type": "markdown",
   "id": "29310223",
   "metadata": {},
   "source": [
    "## Camera information"
   ]
  },
  {
   "cell_type": "code",
   "execution_count": 12,
   "id": "12e4df93",
   "metadata": {},
   "outputs": [],
   "source": [
    "cameras = json.load(cameras_sfm.open('r'))"
   ]
  },
  {
   "cell_type": "code",
   "execution_count": 13,
   "id": "db49188c",
   "metadata": {},
   "outputs": [
    {
     "data": {
      "text/plain": [
       "dict_keys(['version', 'featuresFolders', 'matchesFolders', 'views', 'intrinsics', 'poses'])"
      ]
     },
     "execution_count": 13,
     "metadata": {},
     "output_type": "execute_result"
    }
   ],
   "source": [
    "cameras.keys()"
   ]
  },
  {
   "cell_type": "code",
   "execution_count": 14,
   "id": "4719b274",
   "metadata": {},
   "outputs": [],
   "source": [
    "intrinsic = cameras['intrinsics'][0]"
   ]
  },
  {
   "cell_type": "code",
   "execution_count": 15,
   "id": "f493b152",
   "metadata": {},
   "outputs": [],
   "source": [
    "K = np.array([\n",
    "    [float(intrinsic[\"pxFocalLength\"]), 0, float(intrinsic[\"principalPoint\"][0]), 0],\n",
    "    [0, float(intrinsic[\"pxFocalLength\"]), float(intrinsic[\"principalPoint\"][1]), 0],\n",
    "    [0, 0, 1, 0]\n",
    "])"
   ]
  },
  {
   "cell_type": "code",
   "execution_count": 16,
   "id": "5b3a8bff",
   "metadata": {},
   "outputs": [],
   "source": [
    "views = {view['poseId'] : view['path'][view['path'].rfind('/')+1:].lower() for view in cameras['views']}    "
   ]
  },
  {
   "cell_type": "code",
   "execution_count": 17,
   "id": "dcd5ab8f",
   "metadata": {},
   "outputs": [
    {
     "name": "stderr",
     "output_type": "stream",
     "text": [
      "100%|██████████████████████████████████████████████████████████████████████████████████| 77/77 [02:21<00:00,  1.84s/it]\n"
     ]
    }
   ],
   "source": [
    "for pose_obj in tqdm(cameras['poses']):\n",
    "    pose = pose_obj['pose']['transform']\n",
    "    img_name = views[pose_obj['poseId']]\n",
    "    im = plt.imread(captured_images.joinpath(img_name))\n",
    "    fig, ax = plt.subplots(figsize=(16,12))\n",
    "    implot = ax.imshow(im)\n",
    "    plt.axis('off')\n",
    "    \n",
    "    R = np.array([float(x) for x in pose[\"rotation\"]]).reshape((3,3), order='F')\n",
    "    C = np.array([[float(x)] for x in pose[\"center\"]])\n",
    "    T = - np.matmul(R, C)\n",
    "    M = np.vstack((np.hstack((R, T)), np.array([0, 0, 0, 1])))\n",
    "    eye = [float(x) for x in pose[\"center\"]]\n",
    "    \n",
    "    for curr_polyline, curr_visibility, curr_color in polylines:\n",
    "        curr_image_coords = get_image_coordinates(curr_polyline, K, M)\n",
    "        curr_is_visible = calculate_visibility(curr_visibility.vertices, eye)\n",
    "        plot_polyline(curr_image_coords, curr_is_visible, curr_visibility.edges, curr_color)\n",
    "    plt.savefig(output_directory.joinpath(img_name), bbox_inches='tight')\n",
    "    plt.close()"
   ]
  },
  {
   "cell_type": "code",
   "execution_count": null,
   "id": "6318a9ba",
   "metadata": {},
   "outputs": [],
   "source": []
  }
 ],
 "metadata": {
  "kernelspec": {
   "display_name": "topoutils",
   "language": "python",
   "name": "topoutils"
  },
  "language_info": {
   "codemirror_mode": {
    "name": "ipython",
    "version": 3
   },
   "file_extension": ".py",
   "mimetype": "text/x-python",
   "name": "python",
   "nbconvert_exporter": "python",
   "pygments_lexer": "ipython3",
   "version": "3.11.3"
  }
 },
 "nbformat": 4,
 "nbformat_minor": 5
}
