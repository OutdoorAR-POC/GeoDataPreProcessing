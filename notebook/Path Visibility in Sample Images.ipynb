{
 "cells": [
  {
   "cell_type": "markdown",
   "id": "db417236",
   "metadata": {},
   "source": [
    "# Path Visibility in Sample Images"
   ]
  },
  {
   "cell_type": "code",
   "execution_count": null,
   "id": "2d04cbfd",
   "metadata": {},
   "outputs": [],
   "source": [
    "import sys\n",
    "from pathlib import Path\n",
    "from typing import List\n",
    "\n",
    "import json\n",
    "import matplotlib.pyplot as plt\n",
    "import numpy as np\n",
    "import pandas as pd\n",
    "from tqdm import tqdm\n",
    "\n",
    "sys.path.insert(0, '..')\n",
    "\n",
    "from outdoorar.constants import RESOURCES_DIR, CAMERAS_DIR, OUTPUT_DIR, VISIBILITY_DIR, FIGURES_DIR, PROJECT_DIR\n",
    "from outdoorar.rendering import get_image_coordinates, is_inside_image\n",
    "from outdoorar.visibility import Visibility, Vertex, from_json, calculate_visibility"
   ]
  },
  {
   "cell_type": "markdown",
   "id": "74a15be3",
   "metadata": {},
   "source": [
    "## Input data"
   ]
  },
  {
   "cell_type": "code",
   "execution_count": null,
   "id": "723507e3",
   "metadata": {},
   "outputs": [],
   "source": [
    "captured_images = RESOURCES_DIR.joinpath('capturedImages')\n",
    "cameras_sfm = CAMERAS_DIR.joinpath('cameras.sfm')"
   ]
  },
  {
   "cell_type": "code",
   "execution_count": null,
   "id": "47eccc63",
   "metadata": {},
   "outputs": [],
   "source": [
    "n_range = [2,4,8,16,32]"
   ]
  },
  {
   "cell_type": "markdown",
   "id": "b3a31ae4",
   "metadata": {},
   "source": [
    "## Functions"
   ]
  },
  {
   "cell_type": "code",
   "execution_count": null,
   "id": "3590f46f",
   "metadata": {},
   "outputs": [],
   "source": [
    "def read_polylines(n, parent_visibility_folder=VISIBILITY_DIR):\n",
    "    \n",
    "    visibility_folder = parent_visibility_folder.joinpath(f'n_{n}')\n",
    "    blue_visibility = from_json(visibility_folder.joinpath('BluePolyline.json'))\n",
    "    red_visibility = from_json(visibility_folder.joinpath('RedPolyline.json'))\n",
    "    yellow_visibility = from_json(visibility_folder.joinpath('YellowPolyline.json'))\n",
    "    green_visibility = from_json(visibility_folder.joinpath('GreenPolyline.json'))\n",
    "\n",
    "    polylines = [\n",
    "        (green_visibility, (0, 1, 0.5)), \n",
    "        (yellow_visibility, (1, 1, 0)),\n",
    "        (red_visibility, (1, 0, 0)),\n",
    "        (blue_visibility, (0, 170/255, 1)),\n",
    "    ]\n",
    "    return polylines"
   ]
  },
  {
   "cell_type": "code",
   "execution_count": null,
   "id": "396659fe",
   "metadata": {},
   "outputs": [],
   "source": [
    "def get_or_create_output_directory(n, parent_output_directory=OUTPUT_DIR):\n",
    "    output_directory = parent_output_directory.joinpath(f'n_{n}')\n",
    "    output_directory.mkdir(exist_ok=True, parents=True)\n",
    "    return output_directory"
   ]
  },
  {
   "cell_type": "code",
   "execution_count": null,
   "id": "346c529c",
   "metadata": {},
   "outputs": [],
   "source": [
    "def polyline_to_matrix(visibility: Visibility) -> np.ndarray:\n",
    "    return np.array([[v.x, v.y, v.z] for v in visibility.vertices])"
   ]
  },
  {
   "cell_type": "code",
   "execution_count": null,
   "id": "fefa9bb9",
   "metadata": {},
   "outputs": [],
   "source": [
    "def clip(coords: np.ndarray, image_width: int, image_height: int) -> np.ndarray:\n",
    "    return np.maximum(np.minimum(coords, np.array([[image_width], [image_height], [1]])), 0)"
   ]
  },
  {
   "cell_type": "code",
   "execution_count": null,
   "id": "c2efce15",
   "metadata": {},
   "outputs": [],
   "source": [
    "def plot_polyline(image_coords, node_visibility, edges, color, image_width, image_height):\n",
    "    if not np.any(node_visibility):\n",
    "        return \n",
    "    plt.scatter(\n",
    "        x=image_coords[:, node_visibility][0], \n",
    "        y=image_coords[:, node_visibility][1], \n",
    "        facecolors=color,\n",
    "        edgecolors=color\n",
    "    )\n",
    "    for edge in edges:\n",
    "        v1_visible = node_visibility[edge.vertex1]\n",
    "        v2_visible = node_visibility[edge.vertex2]\n",
    "        coords = clip(image_coords[:, [edge.vertex1, edge.vertex2]], image_width, image_height)\n",
    "        if v1_visible and v2_visible:\n",
    "            plt.plot(coords[0], coords[1], '-', c=color)\n",
    "        elif v1_visible or v2_visible:\n",
    "            plt.plot(coords[0], coords[1], '--', c=color)\n"
   ]
  },
  {
   "cell_type": "markdown",
   "id": "483db4a1",
   "metadata": {},
   "source": [
    "## Camera information"
   ]
  },
  {
   "cell_type": "code",
   "execution_count": null,
   "id": "1e454b5e",
   "metadata": {},
   "outputs": [],
   "source": [
    "cameras = json.load(cameras_sfm.open('r'))"
   ]
  },
  {
   "cell_type": "code",
   "execution_count": null,
   "id": "05716b96",
   "metadata": {},
   "outputs": [],
   "source": [
    "cameras.keys()"
   ]
  },
  {
   "cell_type": "markdown",
   "id": "47b1fcad",
   "metadata": {},
   "source": [
    "### Camera intrinsic matrix"
   ]
  },
  {
   "cell_type": "code",
   "execution_count": null,
   "id": "ef77709c",
   "metadata": {},
   "outputs": [],
   "source": [
    "intrinsic = cameras['intrinsics'][0]"
   ]
  },
  {
   "cell_type": "code",
   "execution_count": null,
   "id": "220c3182",
   "metadata": {},
   "outputs": [],
   "source": [
    "K = np.array([\n",
    "    [float(intrinsic[\"pxFocalLength\"]), 0, float(intrinsic[\"principalPoint\"][0]), 0],\n",
    "    [0, float(intrinsic[\"pxFocalLength\"]), float(intrinsic[\"principalPoint\"][1]), 0],\n",
    "    [0, 0, 1, 0]\n",
    "])"
   ]
  },
  {
   "cell_type": "code",
   "execution_count": null,
   "id": "d3640d6b",
   "metadata": {},
   "outputs": [],
   "source": [
    "K"
   ]
  },
  {
   "cell_type": "markdown",
   "id": "0d640e4d",
   "metadata": {},
   "source": [
    "### Sample images"
   ]
  },
  {
   "cell_type": "code",
   "execution_count": null,
   "id": "df5b47fc",
   "metadata": {},
   "outputs": [],
   "source": [
    "views = {view['poseId'] : {\n",
    "    'imgName': view['path'][view['path'].rfind('/')+1:].upper(),\n",
    "    'width': int(view['width']),\n",
    "    'height': int(view['height'])\n",
    "} for view in cameras['views']}    "
   ]
  },
  {
   "cell_type": "markdown",
   "id": "88201fbb",
   "metadata": {},
   "source": [
    "### Prepare output dataframe with visibility information"
   ]
  },
  {
   "cell_type": "code",
   "execution_count": null,
   "id": "f6f295e9",
   "metadata": {},
   "outputs": [],
   "source": [
    "def get_output_dataframe(polylines, views):\n",
    "    annotations_info: list[tuple[str, str]] = []\n",
    "\n",
    "    for curr_polyline, curr_color in polylines:\n",
    "        poly_name = curr_polyline.name\n",
    "        num_vertices = len(curr_polyline.vertices)\n",
    "        annotations_info.extend(list(zip([poly_name] * num_vertices, [str(x) for x in range(num_vertices)])))\n",
    "        \n",
    "    images_index = [view['imgName'] for view in views.values()]\n",
    "    \n",
    "    return pd.DataFrame(\n",
    "        data=0, \n",
    "        columns=pd.MultiIndex.from_tuples(annotations_info), \n",
    "        index=images_index, \n",
    "        dtype=int,\n",
    "    )"
   ]
  },
  {
   "cell_type": "markdown",
   "id": "569a92ce",
   "metadata": {},
   "source": [
    "### Draw visible annotations in the image"
   ]
  },
  {
   "cell_type": "code",
   "execution_count": null,
   "id": "50081fa5",
   "metadata": {},
   "outputs": [],
   "source": [
    "for n in n_range:\n",
    "    polylines = read_polylines(n)\n",
    "    output_directory = get_or_create_output_directory(n)\n",
    "    results_df = get_output_dataframe(polylines, views)\n",
    "    \n",
    "    for pose_obj in tqdm(cameras['poses'], desc=f'n={n}'):\n",
    "        \n",
    "        pose = pose_obj['pose']['transform']\n",
    "        view = views[pose_obj['poseId']]\n",
    "        img_name = view['imgName']\n",
    "        im = plt.imread(captured_images.joinpath(img_name))\n",
    "        fig, ax = plt.subplots(figsize=(16,12))\n",
    "        implot = ax.imshow(im)\n",
    "        plt.axis('off')\n",
    "\n",
    "        R = np.array([float(x) for x in pose[\"rotation\"]]).reshape((3,3), order='F')\n",
    "        C = np.array([[float(x)] for x in pose[\"center\"]])\n",
    "        T = - np.matmul(R, C)\n",
    "        M = np.vstack((np.hstack((R, T)), np.array([0, 0, 0, 1])))\n",
    "        eye = [float(x) for x in pose[\"center\"]]  \n",
    "\n",
    "        image_width, image_height = view['width'], view['height']\n",
    "\n",
    "        for curr_polyline, curr_color in polylines:\n",
    "            \n",
    "            polyline_matrix = polyline_to_matrix(curr_polyline)\n",
    "            curr_image_coords = get_image_coordinates(polyline_matrix, K, M)\n",
    "            curr_is_visible = np.logical_and(\n",
    "                calculate_visibility(curr_polyline.vertices, eye),\n",
    "                is_inside_image(curr_image_coords, image_width, image_height)\n",
    "            )\n",
    "            results_df.loc[img_name, results_df.columns.get_level_values(0)==curr_polyline.name] = curr_is_visible.astype(int)\n",
    "            plot_polyline(curr_image_coords, curr_is_visible, curr_polyline.edges, curr_color, image_width, image_height)\n",
    "        plt.savefig(output_directory.joinpath(img_name), bbox_inches='tight')\n",
    "        plt.close()\n",
    "    results_df.to_csv(output_directory.joinpath('visibility.csv'))\n"
   ]
  },
  {
   "cell_type": "markdown",
   "id": "6aaabdcc",
   "metadata": {},
   "source": [
    "### Compare to ground truth"
   ]
  },
  {
   "cell_type": "code",
   "execution_count": null,
   "id": "881e72fc",
   "metadata": {},
   "outputs": [],
   "source": [
    "ground_truth_file_path = RESOURCES_DIR.joinpath('ground_truth.csv')\n",
    "gt_df = pd.read_csv(ground_truth_file_path, header=[0,1], index_col=0)"
   ]
  },
  {
   "cell_type": "code",
   "execution_count": null,
   "id": "83200b9e",
   "metadata": {},
   "outputs": [],
   "source": [
    "gt_df"
   ]
  },
  {
   "cell_type": "code",
   "execution_count": null,
   "id": "966244b7",
   "metadata": {},
   "outputs": [],
   "source": [
    "def get_scores(gt_df, results_df, cols):\n",
    "    tp = np.logical_and(gt_df == 1, results_df[cols] == 1).sum().sum()\n",
    "    tn = np.logical_and(gt_df == 0, results_df[cols] == 0).sum().sum()\n",
    "    fp = np.logical_and(gt_df == 0, results_df[cols] == 1).sum().sum()\n",
    "    fn = np.logical_and(gt_df == 1, results_df[cols] == 0).sum().sum()\n",
    "    accuracy = (tp + tn) / (tp + tn + fp + fn)\n",
    "    precision = tp / (tp + fp)\n",
    "    recall = tp / (tp + fn)\n",
    "    f1 = (2*tp) / (2*tp + fp + fn)\n",
    "    return accuracy, precision, recall, f1\n",
    "\n",
    "cols = gt_df.columns\n",
    "\n",
    "scores = pd.DataFrame(\n",
    "    data=np.nan, \n",
    "    columns=['Accuracy', 'Precision', 'Recall', 'F1-Score'], \n",
    "    index=pd.Index(n_range, name='Number of viewpoints')\n",
    ")\n",
    "\n",
    "for n in n_range:\n",
    "    results_df = pd.read_csv(\n",
    "        get_or_create_output_directory(n).joinpath('visibility.csv'),\n",
    "        index_col=0,\n",
    "        header=[0,1]\n",
    "    )\n",
    "    scores.loc[n] = get_scores(gt_df, results_df, cols)\n",
    "    print(n, *get_scores(gt_df, results_df, cols))\n",
    "    "
   ]
  },
  {
   "cell_type": "code",
   "execution_count": null,
   "id": "3bacfea4-bde8-4ca8-a94a-cf062f1a9b70",
   "metadata": {},
   "outputs": [],
   "source": [
    "scores"
   ]
  },
  {
   "cell_type": "code",
   "execution_count": null,
   "id": "3d12d3dd",
   "metadata": {},
   "outputs": [],
   "source": [
    "import plotly.graph_objects as go"
   ]
  },
  {
   "cell_type": "code",
   "execution_count": null,
   "id": "204d2c50",
   "metadata": {},
   "outputs": [],
   "source": [
    "fig = go.Figure()\n",
    "fig.add_trace(go.Scatter(x=scores.index, y=scores['Accuracy'], name='Accuracy'))\n",
    "fig.add_trace(go.Scatter(x=scores.index, y=scores['Precision'], name='Precision'))\n",
    "fig.add_trace(go.Scatter(x=scores.index, y=scores['Recall'], name='Recall'))\n",
    "fig.add_trace(go.Scatter(x=scores.index, y=scores['F1-Score'], name='F1-Score'))\n",
    "fig.update_layout(\n",
    "    template='plotly_white', \n",
    "    yaxis=dict(title='Value', range=[0,1]),\n",
    ")\n",
    "fig.update_xaxes(type=\"log\", title='Number of viewpoints')\n",
    "fig.write_image(FIGURES_DIR.joinpath('performance.png'), scale=3)\n",
    "fig.show()"
   ]
  },
  {
   "cell_type": "code",
   "execution_count": null,
   "id": "a1e68919",
   "metadata": {},
   "outputs": [],
   "source": []
  }
 ],
 "metadata": {
  "kernelspec": {
   "display_name": "topoutils",
   "language": "python",
   "name": "topoutils"
  },
  "language_info": {
   "codemirror_mode": {
    "name": "ipython",
    "version": 3
   },
   "file_extension": ".py",
   "mimetype": "text/x-python",
   "name": "python",
   "nbconvert_exporter": "python",
   "pygments_lexer": "ipython3",
   "version": "3.11.3"
  }
 },
 "nbformat": 4,
 "nbformat_minor": 5
}
