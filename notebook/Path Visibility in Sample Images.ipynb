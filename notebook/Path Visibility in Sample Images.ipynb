{
 "cells": [
  {
   "cell_type": "markdown",
   "id": "db417236",
   "metadata": {},
   "source": [
    "# Path Visibility in Sample Images"
   ]
  },
  {
   "cell_type": "code",
   "execution_count": 1,
   "id": "2d04cbfd",
   "metadata": {},
   "outputs": [],
   "source": [
    "import sys\n",
    "from pathlib import Path\n",
    "from typing import List\n",
    "\n",
    "import json\n",
    "import matplotlib.pyplot as plt\n",
    "import numpy as np\n",
    "import pandas as pd\n",
    "from tqdm import tqdm\n",
    "\n",
    "from topoutils.constants import ASSETS_DIR, PROJECT_DIR\n",
    "from topoutils.rendering import get_image_coordinates, is_inside_image\n",
    "from topoutils.sphere_sampling import get_spherical_coordinates\n",
    "from topoutils.visibility import Vertex, from_json\n",
    "from topoutils.visibility import Visibility, Vertex\n",
    "\n",
    "sys.path.insert(0, '..')"
   ]
  },
  {
   "cell_type": "code",
   "execution_count": 2,
   "id": "1957c309",
   "metadata": {},
   "outputs": [],
   "source": [
    "import seaborn as sns\n",
    "%matplotlib inline"
   ]
  },
  {
   "cell_type": "markdown",
   "id": "74a15be3",
   "metadata": {},
   "source": [
    "## Input data"
   ]
  },
  {
   "cell_type": "code",
   "execution_count": 3,
   "id": "723507e3",
   "metadata": {},
   "outputs": [],
   "source": [
    "captured_images = ASSETS_DIR.joinpath('capturedImages')\n",
    "cameras_sfm = ASSETS_DIR.joinpath('cameras', 'cameras.sfm')"
   ]
  },
  {
   "cell_type": "code",
   "execution_count": 4,
   "id": "47eccc63",
   "metadata": {},
   "outputs": [],
   "source": [
    "n_range = [2,4,8,16,32]"
   ]
  },
  {
   "cell_type": "markdown",
   "id": "b3a31ae4",
   "metadata": {},
   "source": [
    "## Functions"
   ]
  },
  {
   "cell_type": "code",
   "execution_count": 5,
   "id": "3590f46f",
   "metadata": {},
   "outputs": [],
   "source": [
    "def read_polylines(n, parent_visibility_folder=PROJECT_DIR.joinpath('visibility')):\n",
    "    \n",
    "    visibility_folder = parent_visibility_folder.joinpath(f'n_{n}')\n",
    "    blue_visibility = from_json(visibility_folder.joinpath('BluePolyline.json'))\n",
    "    red_visibility = from_json(visibility_folder.joinpath('RedPolyline.json'))\n",
    "    yellow_visibility = from_json(visibility_folder.joinpath('YellowPolyline.json'))\n",
    "    green_visibility = from_json(visibility_folder.joinpath('GreenPolyline.json'))\n",
    "\n",
    "    polylines = [\n",
    "        (green_visibility, (0, 1, 0.5)), \n",
    "        (yellow_visibility, (1, 1, 0)),\n",
    "        (red_visibility, (1, 0, 0)),\n",
    "        (blue_visibility, (0, 170/255, 1)),\n",
    "    ]\n",
    "    return polylines"
   ]
  },
  {
   "cell_type": "code",
   "execution_count": 6,
   "id": "396659fe",
   "metadata": {},
   "outputs": [],
   "source": [
    "def get_or_create_output_directory(n, parent_output_directory=PROJECT_DIR.joinpath('output')):\n",
    "    output_directory = parent_output_directory.joinpath(f'n_{n}')\n",
    "    output_directory.mkdir(exist_ok=True, parents=True)\n",
    "    return output_directory"
   ]
  },
  {
   "cell_type": "code",
   "execution_count": 7,
   "id": "346c529c",
   "metadata": {},
   "outputs": [],
   "source": [
    "def polyline_to_matrix(visibility: Visibility) -> np.ndarray:\n",
    "    return np.array([[v.x, v.y, v.z] for v in visibility.vertices])\n"
   ]
  },
  {
   "cell_type": "code",
   "execution_count": 8,
   "id": "0bf77614",
   "metadata": {},
   "outputs": [],
   "source": [
    "def calculate_visibility(vertices: list[Vertex],  eye: list[float]) -> np.ndarray:\n",
    "    n = int(np.sqrt(len(vertices[0].visibility_grid)))\n",
    "    u, v = get_spherical_coordinates(n)\n",
    "    points = np.array([[v.x, v.y, v.z] for v in vertices])\n",
    "    delta = eye - points\n",
    "    R = np.sqrt(np.sum(np.square(delta), axis=1))\n",
    "    polar_angle = (np.arccos(delta[:, 2] / R) % np.pi).reshape(-1, 1)\n",
    "    azimuthal_angle = (np.arctan2(delta[:, 1], delta[:, 0]) % (2 * np.pi)).reshape(-1, 1)\n",
    "    azimuthal_idx = np.argmin(np.abs(u - azimuthal_angle), axis=1)\n",
    "    polar_idx = np.argmin(np.abs(v - polar_angle), axis=1)\n",
    "    poly_vis_idx = polar_idx * n + azimuthal_idx\n",
    "    nn_visibility = [vertex.visibility_grid[vis_idx] for vis_idx, vertex in zip(poly_vis_idx, vertices)]\n",
    "    return nn_visibility >= R"
   ]
  },
  {
   "cell_type": "code",
   "execution_count": 9,
   "id": "fefa9bb9",
   "metadata": {},
   "outputs": [],
   "source": [
    "def clip(coords: np.ndarray, image_width: int, image_height: int) -> np.ndarray:\n",
    "    return np.maximum(np.minimum(coords, np.array([[image_width], [image_height], [1]])), 0)"
   ]
  },
  {
   "cell_type": "code",
   "execution_count": 10,
   "id": "c2efce15",
   "metadata": {},
   "outputs": [],
   "source": [
    "def plot_polyline(image_coords, node_visibility, edges, color, image_width, image_height):\n",
    "    if not np.any(node_visibility):\n",
    "        return \n",
    "    plt.scatter(\n",
    "        x=image_coords[:, node_visibility][0], \n",
    "        y=image_coords[:, node_visibility][1], \n",
    "        facecolors=color,\n",
    "        edgecolors=color\n",
    "    )\n",
    "    for edge in edges:\n",
    "        v1_visible = node_visibility[edge.vertex1]\n",
    "        v2_visible = node_visibility[edge.vertex2]\n",
    "        coords = clip(image_coords[:, [edge.vertex1, edge.vertex2]], image_width, image_height)\n",
    "        if v1_visible and v2_visible:\n",
    "            plt.plot(coords[0], coords[1], '-', c=color)\n",
    "        elif v1_visible or v2_visible:\n",
    "            plt.plot(coords[0], coords[1], '--', c=color)\n"
   ]
  },
  {
   "cell_type": "markdown",
   "id": "483db4a1",
   "metadata": {},
   "source": [
    "## Camera information"
   ]
  },
  {
   "cell_type": "code",
   "execution_count": 11,
   "id": "1e454b5e",
   "metadata": {},
   "outputs": [],
   "source": [
    "cameras = json.load(cameras_sfm.open('r'))"
   ]
  },
  {
   "cell_type": "code",
   "execution_count": 12,
   "id": "05716b96",
   "metadata": {},
   "outputs": [
    {
     "data": {
      "text/plain": [
       "dict_keys(['version', 'featuresFolders', 'matchesFolders', 'views', 'intrinsics', 'poses'])"
      ]
     },
     "execution_count": 12,
     "metadata": {},
     "output_type": "execute_result"
    }
   ],
   "source": [
    "cameras.keys()"
   ]
  },
  {
   "cell_type": "markdown",
   "id": "47b1fcad",
   "metadata": {},
   "source": [
    "### Camera intrinsic matrix"
   ]
  },
  {
   "cell_type": "code",
   "execution_count": 13,
   "id": "ef77709c",
   "metadata": {},
   "outputs": [],
   "source": [
    "intrinsic = cameras['intrinsics'][0]"
   ]
  },
  {
   "cell_type": "code",
   "execution_count": 14,
   "id": "220c3182",
   "metadata": {},
   "outputs": [],
   "source": [
    "K = np.array([\n",
    "    [float(intrinsic[\"pxFocalLength\"]), 0, float(intrinsic[\"principalPoint\"][0]), 0],\n",
    "    [0, float(intrinsic[\"pxFocalLength\"]), float(intrinsic[\"principalPoint\"][1]), 0],\n",
    "    [0, 0, 1, 0]\n",
    "])"
   ]
  },
  {
   "cell_type": "markdown",
   "id": "0d640e4d",
   "metadata": {},
   "source": [
    "### Sample images"
   ]
  },
  {
   "cell_type": "code",
   "execution_count": 15,
   "id": "df5b47fc",
   "metadata": {},
   "outputs": [],
   "source": [
    "views = {view['poseId'] : {\n",
    "    'imgName': view['path'][view['path'].rfind('/')+1:].upper(),\n",
    "    'width': int(view['width']),\n",
    "    'height': int(view['height'])\n",
    "} for view in cameras['views']}    "
   ]
  },
  {
   "cell_type": "markdown",
   "id": "88201fbb",
   "metadata": {},
   "source": [
    "### Prepare output dataframe with visibility information"
   ]
  },
  {
   "cell_type": "code",
   "execution_count": 16,
   "id": "f6f295e9",
   "metadata": {},
   "outputs": [],
   "source": [
    "def get_output_dataframe(polylines, views):\n",
    "    annotations_info: list[tuple[str, str]] = []\n",
    "\n",
    "    for curr_polyline, curr_color in polylines:\n",
    "        poly_name = curr_polyline.name\n",
    "        num_vertices = len(curr_polyline.vertices)\n",
    "        annotations_info.extend(list(zip([poly_name] * num_vertices, [str(x) for x in range(num_vertices)])))\n",
    "        \n",
    "    images_index = [view['imgName'] for view in views.values()]\n",
    "    \n",
    "    return pd.DataFrame(\n",
    "        data=0, \n",
    "        columns=pd.MultiIndex.from_tuples(annotations_info), \n",
    "        index=images_index, \n",
    "        dtype=int,\n",
    "    )"
   ]
  },
  {
   "cell_type": "markdown",
   "id": "569a92ce",
   "metadata": {},
   "source": [
    "### Draw visible annotations in the image"
   ]
  },
  {
   "cell_type": "code",
   "execution_count": 31,
   "id": "50081fa5",
   "metadata": {},
   "outputs": [
    {
     "name": "stderr",
     "output_type": "stream",
     "text": [
      "n=2: 100%|█████████████████████████████████████████████████████████████████████████████| 77/77 [02:22<00:00,  1.85s/it]\n",
      "n=4: 100%|█████████████████████████████████████████████████████████████████████████████| 77/77 [02:18<00:00,  1.80s/it]\n",
      "n=8: 100%|█████████████████████████████████████████████████████████████████████████████| 77/77 [02:20<00:00,  1.82s/it]\n",
      "n=16: 100%|████████████████████████████████████████████████████████████████████████████| 77/77 [02:20<00:00,  1.82s/it]\n",
      "n=32: 100%|████████████████████████████████████████████████████████████████████████████| 77/77 [02:21<00:00,  1.83s/it]\n"
     ]
    }
   ],
   "source": [
    "for n in n_range:\n",
    "    polylines = read_polylines(n)\n",
    "    output_directory = get_or_create_output_directory(n)\n",
    "    results_df = get_output_dataframe(polylines, views)\n",
    "    \n",
    "    for pose_obj in tqdm(cameras['poses'], desc=f'n={n}'):\n",
    "        \n",
    "        pose = pose_obj['pose']['transform']\n",
    "        view = views[pose_obj['poseId']]\n",
    "        img_name = view['imgName']\n",
    "        im = plt.imread(captured_images.joinpath(img_name))\n",
    "        fig, ax = plt.subplots(figsize=(16,12))\n",
    "        implot = ax.imshow(im)\n",
    "        plt.axis('off')\n",
    "\n",
    "        R = np.array([float(x) for x in pose[\"rotation\"]]).reshape((3,3), order='F')\n",
    "        C = np.array([[float(x)] for x in pose[\"center\"]])\n",
    "        T = - np.matmul(R, C)\n",
    "        M = np.vstack((np.hstack((R, T)), np.array([0, 0, 0, 1])))\n",
    "        eye = [float(x) for x in pose[\"center\"]]  \n",
    "\n",
    "        image_width, image_height = view['width'], view['height']\n",
    "\n",
    "        for curr_polyline, curr_color in polylines:\n",
    "            \n",
    "            polyline_matrix = polyline_to_matrix(curr_polyline)\n",
    "            curr_image_coords = get_image_coordinates(polyline_matrix, K, M)\n",
    "            curr_is_visible = np.logical_and(\n",
    "                calculate_visibility(curr_polyline.vertices, eye),\n",
    "                is_inside_image(curr_image_coords, image_width, image_height)\n",
    "            )\n",
    "            results_df.loc[img_name, results_df.columns.get_level_values(0)==curr_polyline.name] = curr_is_visible.astype(int)\n",
    "            plot_polyline(curr_image_coords, curr_is_visible, curr_polyline.edges, curr_color, image_width, image_height)\n",
    "        plt.savefig(output_directory.joinpath(img_name), bbox_inches='tight')\n",
    "        plt.close()\n",
    "    results_df.to_csv(output_directory.joinpath('visibility.csv'))\n"
   ]
  },
  {
   "cell_type": "markdown",
   "id": "548d87bc",
   "metadata": {},
   "source": [
    "### Compare to ground truth"
   ]
  },
  {
   "cell_type": "code",
   "execution_count": 32,
   "id": "881e72fc",
   "metadata": {},
   "outputs": [],
   "source": [
    "ground_truth_file_path = ASSETS_DIR.joinpath('ground_truth.csv')\n",
    "gt_df = pd.read_csv(ground_truth_file_path, header=[0,1], index_col=0)"
   ]
  },
  {
   "cell_type": "code",
   "execution_count": 33,
   "id": "83200b9e",
   "metadata": {},
   "outputs": [
    {
     "data": {
      "text/html": [
       "<div>\n",
       "<style scoped>\n",
       "    .dataframe tbody tr th:only-of-type {\n",
       "        vertical-align: middle;\n",
       "    }\n",
       "\n",
       "    .dataframe tbody tr th {\n",
       "        vertical-align: top;\n",
       "    }\n",
       "\n",
       "    .dataframe thead tr th {\n",
       "        text-align: left;\n",
       "    }\n",
       "</style>\n",
       "<table border=\"1\" class=\"dataframe\">\n",
       "  <thead>\n",
       "    <tr>\n",
       "      <th>Polyline</th>\n",
       "      <th colspan=\"4\" halign=\"left\">BluePolyline</th>\n",
       "      <th colspan=\"6\" halign=\"left\">GreenPolyline</th>\n",
       "      <th>...</th>\n",
       "      <th colspan=\"10\" halign=\"left\">YellowPolyline</th>\n",
       "    </tr>\n",
       "    <tr>\n",
       "      <th>VertexIdx</th>\n",
       "      <th>0</th>\n",
       "      <th>1</th>\n",
       "      <th>2</th>\n",
       "      <th>3</th>\n",
       "      <th>0</th>\n",
       "      <th>1</th>\n",
       "      <th>2</th>\n",
       "      <th>3</th>\n",
       "      <th>4</th>\n",
       "      <th>5</th>\n",
       "      <th>...</th>\n",
       "      <th>3</th>\n",
       "      <th>4</th>\n",
       "      <th>5</th>\n",
       "      <th>6</th>\n",
       "      <th>7</th>\n",
       "      <th>8</th>\n",
       "      <th>9</th>\n",
       "      <th>10</th>\n",
       "      <th>11</th>\n",
       "      <th>12</th>\n",
       "    </tr>\n",
       "  </thead>\n",
       "  <tbody>\n",
       "    <tr>\n",
       "      <th>IMG_20230320_153414.JPG</th>\n",
       "      <td>0</td>\n",
       "      <td>0</td>\n",
       "      <td>0</td>\n",
       "      <td>0</td>\n",
       "      <td>1</td>\n",
       "      <td>1</td>\n",
       "      <td>1</td>\n",
       "      <td>1</td>\n",
       "      <td>0</td>\n",
       "      <td>0</td>\n",
       "      <td>...</td>\n",
       "      <td>1</td>\n",
       "      <td>0</td>\n",
       "      <td>0</td>\n",
       "      <td>0</td>\n",
       "      <td>0</td>\n",
       "      <td>1</td>\n",
       "      <td>1</td>\n",
       "      <td>1</td>\n",
       "      <td>0</td>\n",
       "      <td>0</td>\n",
       "    </tr>\n",
       "    <tr>\n",
       "      <th>IMG_20230320_154334.JPG</th>\n",
       "      <td>1</td>\n",
       "      <td>1</td>\n",
       "      <td>1</td>\n",
       "      <td>1</td>\n",
       "      <td>0</td>\n",
       "      <td>0</td>\n",
       "      <td>0</td>\n",
       "      <td>0</td>\n",
       "      <td>0</td>\n",
       "      <td>0</td>\n",
       "      <td>...</td>\n",
       "      <td>0</td>\n",
       "      <td>0</td>\n",
       "      <td>0</td>\n",
       "      <td>0</td>\n",
       "      <td>0</td>\n",
       "      <td>0</td>\n",
       "      <td>0</td>\n",
       "      <td>0</td>\n",
       "      <td>0</td>\n",
       "      <td>0</td>\n",
       "    </tr>\n",
       "    <tr>\n",
       "      <th>IMG_20230320_154133.JPG</th>\n",
       "      <td>1</td>\n",
       "      <td>1</td>\n",
       "      <td>1</td>\n",
       "      <td>1</td>\n",
       "      <td>0</td>\n",
       "      <td>0</td>\n",
       "      <td>0</td>\n",
       "      <td>0</td>\n",
       "      <td>0</td>\n",
       "      <td>0</td>\n",
       "      <td>...</td>\n",
       "      <td>0</td>\n",
       "      <td>0</td>\n",
       "      <td>0</td>\n",
       "      <td>0</td>\n",
       "      <td>0</td>\n",
       "      <td>0</td>\n",
       "      <td>0</td>\n",
       "      <td>0</td>\n",
       "      <td>0</td>\n",
       "      <td>0</td>\n",
       "    </tr>\n",
       "    <tr>\n",
       "      <th>IMG_20230320_154002.JPG</th>\n",
       "      <td>1</td>\n",
       "      <td>1</td>\n",
       "      <td>1</td>\n",
       "      <td>1</td>\n",
       "      <td>0</td>\n",
       "      <td>0</td>\n",
       "      <td>0</td>\n",
       "      <td>0</td>\n",
       "      <td>0</td>\n",
       "      <td>0</td>\n",
       "      <td>...</td>\n",
       "      <td>0</td>\n",
       "      <td>0</td>\n",
       "      <td>0</td>\n",
       "      <td>0</td>\n",
       "      <td>0</td>\n",
       "      <td>0</td>\n",
       "      <td>0</td>\n",
       "      <td>1</td>\n",
       "      <td>1</td>\n",
       "      <td>0</td>\n",
       "    </tr>\n",
       "    <tr>\n",
       "      <th>IMG_20230320_153708.JPG</th>\n",
       "      <td>0</td>\n",
       "      <td>0</td>\n",
       "      <td>0</td>\n",
       "      <td>0</td>\n",
       "      <td>0</td>\n",
       "      <td>1</td>\n",
       "      <td>1</td>\n",
       "      <td>1</td>\n",
       "      <td>1</td>\n",
       "      <td>1</td>\n",
       "      <td>...</td>\n",
       "      <td>0</td>\n",
       "      <td>0</td>\n",
       "      <td>1</td>\n",
       "      <td>1</td>\n",
       "      <td>0</td>\n",
       "      <td>1</td>\n",
       "      <td>1</td>\n",
       "      <td>1</td>\n",
       "      <td>1</td>\n",
       "      <td>1</td>\n",
       "    </tr>\n",
       "    <tr>\n",
       "      <th>...</th>\n",
       "      <td>...</td>\n",
       "      <td>...</td>\n",
       "      <td>...</td>\n",
       "      <td>...</td>\n",
       "      <td>...</td>\n",
       "      <td>...</td>\n",
       "      <td>...</td>\n",
       "      <td>...</td>\n",
       "      <td>...</td>\n",
       "      <td>...</td>\n",
       "      <td>...</td>\n",
       "      <td>...</td>\n",
       "      <td>...</td>\n",
       "      <td>...</td>\n",
       "      <td>...</td>\n",
       "      <td>...</td>\n",
       "      <td>...</td>\n",
       "      <td>...</td>\n",
       "      <td>...</td>\n",
       "      <td>...</td>\n",
       "      <td>...</td>\n",
       "    </tr>\n",
       "    <tr>\n",
       "      <th>IMG_20230320_152252.JPG</th>\n",
       "      <td>1</td>\n",
       "      <td>1</td>\n",
       "      <td>0</td>\n",
       "      <td>1</td>\n",
       "      <td>0</td>\n",
       "      <td>0</td>\n",
       "      <td>0</td>\n",
       "      <td>0</td>\n",
       "      <td>0</td>\n",
       "      <td>1</td>\n",
       "      <td>...</td>\n",
       "      <td>1</td>\n",
       "      <td>0</td>\n",
       "      <td>1</td>\n",
       "      <td>1</td>\n",
       "      <td>0</td>\n",
       "      <td>1</td>\n",
       "      <td>0</td>\n",
       "      <td>1</td>\n",
       "      <td>1</td>\n",
       "      <td>1</td>\n",
       "    </tr>\n",
       "    <tr>\n",
       "      <th>IMG_20230320_152221.JPG</th>\n",
       "      <td>1</td>\n",
       "      <td>1</td>\n",
       "      <td>0</td>\n",
       "      <td>1</td>\n",
       "      <td>0</td>\n",
       "      <td>0</td>\n",
       "      <td>0</td>\n",
       "      <td>0</td>\n",
       "      <td>0</td>\n",
       "      <td>0</td>\n",
       "      <td>...</td>\n",
       "      <td>1</td>\n",
       "      <td>0</td>\n",
       "      <td>1</td>\n",
       "      <td>1</td>\n",
       "      <td>0</td>\n",
       "      <td>1</td>\n",
       "      <td>0</td>\n",
       "      <td>1</td>\n",
       "      <td>1</td>\n",
       "      <td>1</td>\n",
       "    </tr>\n",
       "    <tr>\n",
       "      <th>IMG_20230320_154159.JPG</th>\n",
       "      <td>0</td>\n",
       "      <td>0</td>\n",
       "      <td>0</td>\n",
       "      <td>0</td>\n",
       "      <td>0</td>\n",
       "      <td>0</td>\n",
       "      <td>0</td>\n",
       "      <td>0</td>\n",
       "      <td>0</td>\n",
       "      <td>0</td>\n",
       "      <td>...</td>\n",
       "      <td>0</td>\n",
       "      <td>0</td>\n",
       "      <td>0</td>\n",
       "      <td>0</td>\n",
       "      <td>0</td>\n",
       "      <td>0</td>\n",
       "      <td>0</td>\n",
       "      <td>0</td>\n",
       "      <td>0</td>\n",
       "      <td>0</td>\n",
       "    </tr>\n",
       "    <tr>\n",
       "      <th>IMG_20230320_152801.JPG</th>\n",
       "      <td>0</td>\n",
       "      <td>0</td>\n",
       "      <td>0</td>\n",
       "      <td>0</td>\n",
       "      <td>1</td>\n",
       "      <td>1</td>\n",
       "      <td>1</td>\n",
       "      <td>1</td>\n",
       "      <td>1</td>\n",
       "      <td>1</td>\n",
       "      <td>...</td>\n",
       "      <td>1</td>\n",
       "      <td>0</td>\n",
       "      <td>1</td>\n",
       "      <td>1</td>\n",
       "      <td>0</td>\n",
       "      <td>1</td>\n",
       "      <td>1</td>\n",
       "      <td>1</td>\n",
       "      <td>0</td>\n",
       "      <td>1</td>\n",
       "    </tr>\n",
       "    <tr>\n",
       "      <th>IMG_20230320_153614.JPG</th>\n",
       "      <td>0</td>\n",
       "      <td>0</td>\n",
       "      <td>0</td>\n",
       "      <td>0</td>\n",
       "      <td>0</td>\n",
       "      <td>0</td>\n",
       "      <td>0</td>\n",
       "      <td>0</td>\n",
       "      <td>0</td>\n",
       "      <td>0</td>\n",
       "      <td>...</td>\n",
       "      <td>0</td>\n",
       "      <td>0</td>\n",
       "      <td>0</td>\n",
       "      <td>0</td>\n",
       "      <td>0</td>\n",
       "      <td>0</td>\n",
       "      <td>0</td>\n",
       "      <td>1</td>\n",
       "      <td>0</td>\n",
       "      <td>0</td>\n",
       "    </tr>\n",
       "  </tbody>\n",
       "</table>\n",
       "<p>77 rows × 34 columns</p>\n",
       "</div>"
      ],
      "text/plain": [
       "Polyline                BluePolyline          GreenPolyline                  \n",
       "VertexIdx                          0  1  2  3             0  1  2  3  4  5   \n",
       "IMG_20230320_153414.JPG            0  0  0  0             1  1  1  1  0  0  \\\n",
       "IMG_20230320_154334.JPG            1  1  1  1             0  0  0  0  0  0   \n",
       "IMG_20230320_154133.JPG            1  1  1  1             0  0  0  0  0  0   \n",
       "IMG_20230320_154002.JPG            1  1  1  1             0  0  0  0  0  0   \n",
       "IMG_20230320_153708.JPG            0  0  0  0             0  1  1  1  1  1   \n",
       "...                              ... .. .. ..           ... .. .. .. .. ..   \n",
       "IMG_20230320_152252.JPG            1  1  0  1             0  0  0  0  0  1   \n",
       "IMG_20230320_152221.JPG            1  1  0  1             0  0  0  0  0  0   \n",
       "IMG_20230320_154159.JPG            0  0  0  0             0  0  0  0  0  0   \n",
       "IMG_20230320_152801.JPG            0  0  0  0             1  1  1  1  1  1   \n",
       "IMG_20230320_153614.JPG            0  0  0  0             0  0  0  0  0  0   \n",
       "\n",
       "Polyline                 ... YellowPolyline                             \n",
       "VertexIdx                ...              3  4  5  6  7  8  9 10 11 12  \n",
       "IMG_20230320_153414.JPG  ...              1  0  0  0  0  1  1  1  0  0  \n",
       "IMG_20230320_154334.JPG  ...              0  0  0  0  0  0  0  0  0  0  \n",
       "IMG_20230320_154133.JPG  ...              0  0  0  0  0  0  0  0  0  0  \n",
       "IMG_20230320_154002.JPG  ...              0  0  0  0  0  0  0  1  1  0  \n",
       "IMG_20230320_153708.JPG  ...              0  0  1  1  0  1  1  1  1  1  \n",
       "...                      ...            ... .. .. .. .. .. .. .. .. ..  \n",
       "IMG_20230320_152252.JPG  ...              1  0  1  1  0  1  0  1  1  1  \n",
       "IMG_20230320_152221.JPG  ...              1  0  1  1  0  1  0  1  1  1  \n",
       "IMG_20230320_154159.JPG  ...              0  0  0  0  0  0  0  0  0  0  \n",
       "IMG_20230320_152801.JPG  ...              1  0  1  1  0  1  1  1  0  1  \n",
       "IMG_20230320_153614.JPG  ...              0  0  0  0  0  0  0  1  0  0  \n",
       "\n",
       "[77 rows x 34 columns]"
      ]
     },
     "execution_count": 33,
     "metadata": {},
     "output_type": "execute_result"
    }
   ],
   "source": [
    "gt_df"
   ]
  },
  {
   "cell_type": "code",
   "execution_count": 39,
   "id": "966244b7",
   "metadata": {},
   "outputs": [
    {
     "name": "stdout",
     "output_type": "stream",
     "text": [
      "2 0.7608861726508785 0.492 0.39805825242718446 0.4400715563506261\n",
      "4 0.8792971734148205 0.7559322033898305 0.7216828478964401 0.7384105960264901\n",
      "8 0.9423223834988541 0.8688783570300158 0.889967637540453 0.8792965627498002\n",
      "16 0.9648586707410237 0.9071207430340558 0.948220064724919 0.9272151898734177\n",
      "32 0.970970206264324 0.9156441717791411 0.9660194174757282 0.9401574803149606\n"
     ]
    }
   ],
   "source": [
    "def get_scores(gt_df, results_df, cols):\n",
    "    tp = np.logical_and(gt_df == 1, results_df[cols] == 1).sum().sum()\n",
    "    tn = np.logical_and(gt_df == 0, results_df[cols] == 0).sum().sum()\n",
    "    fp = np.logical_and(gt_df == 0, results_df[cols] == 1).sum().sum()\n",
    "    fn = np.logical_and(gt_df == 1, results_df[cols] == 0).sum().sum()\n",
    "    accuracy = (tp + tn) / (tp + tn + fp + fn)\n",
    "    precision = tp / (tp + fp)\n",
    "    recall = tp / (tp + fn)\n",
    "    f1 = (2*tp) / (2*tp + fp + fn)\n",
    "    return accuracy, precision, recall, f1\n",
    "\n",
    "cols = gt_df.columns\n",
    "\n",
    "scores = pd.DataFrame(\n",
    "    data=np.nan, \n",
    "    columns=['Accuracy', 'Precision', 'Recall', 'F1-Score'], \n",
    "    index=pd.Index(n_range, name='Number of viewpoints')\n",
    ")\n",
    "\n",
    "for n in n_range:\n",
    "    results_df = pd.read_csv(\n",
    "        get_or_create_output_directory(\n",
    "            n, \n",
    "            parent_output_directory=PROJECT_DIR.joinpath('output'),\n",
    "        ).joinpath('visibility.csv'),\n",
    "        index_col=0,\n",
    "        header=[0,1]\n",
    "    )\n",
    "    scores.loc[n] = get_scores(gt_df, results_df, cols)\n",
    "    print(n, *get_scores(gt_df, results_df, cols))\n",
    "    "
   ]
  },
  {
   "cell_type": "code",
   "execution_count": 40,
   "id": "c79edfff",
   "metadata": {},
   "outputs": [
    {
     "data": {
      "text/html": [
       "<div>\n",
       "<style scoped>\n",
       "    .dataframe tbody tr th:only-of-type {\n",
       "        vertical-align: middle;\n",
       "    }\n",
       "\n",
       "    .dataframe tbody tr th {\n",
       "        vertical-align: top;\n",
       "    }\n",
       "\n",
       "    .dataframe thead th {\n",
       "        text-align: right;\n",
       "    }\n",
       "</style>\n",
       "<table border=\"1\" class=\"dataframe\">\n",
       "  <thead>\n",
       "    <tr style=\"text-align: right;\">\n",
       "      <th></th>\n",
       "      <th>Accuracy</th>\n",
       "      <th>Precision</th>\n",
       "      <th>Recall</th>\n",
       "      <th>F1-Score</th>\n",
       "    </tr>\n",
       "    <tr>\n",
       "      <th>Number of viewpoints</th>\n",
       "      <th></th>\n",
       "      <th></th>\n",
       "      <th></th>\n",
       "      <th></th>\n",
       "    </tr>\n",
       "  </thead>\n",
       "  <tbody>\n",
       "    <tr>\n",
       "      <th>2</th>\n",
       "      <td>0.760886</td>\n",
       "      <td>0.492000</td>\n",
       "      <td>0.398058</td>\n",
       "      <td>0.440072</td>\n",
       "    </tr>\n",
       "    <tr>\n",
       "      <th>4</th>\n",
       "      <td>0.879297</td>\n",
       "      <td>0.755932</td>\n",
       "      <td>0.721683</td>\n",
       "      <td>0.738411</td>\n",
       "    </tr>\n",
       "    <tr>\n",
       "      <th>8</th>\n",
       "      <td>0.942322</td>\n",
       "      <td>0.868878</td>\n",
       "      <td>0.889968</td>\n",
       "      <td>0.879297</td>\n",
       "    </tr>\n",
       "    <tr>\n",
       "      <th>16</th>\n",
       "      <td>0.964859</td>\n",
       "      <td>0.907121</td>\n",
       "      <td>0.948220</td>\n",
       "      <td>0.927215</td>\n",
       "    </tr>\n",
       "    <tr>\n",
       "      <th>32</th>\n",
       "      <td>0.970970</td>\n",
       "      <td>0.915644</td>\n",
       "      <td>0.966019</td>\n",
       "      <td>0.940157</td>\n",
       "    </tr>\n",
       "  </tbody>\n",
       "</table>\n",
       "</div>"
      ],
      "text/plain": [
       "                      Accuracy  Precision    Recall  F1-Score\n",
       "Number of viewpoints                                         \n",
       "2                     0.760886   0.492000  0.398058  0.440072\n",
       "4                     0.879297   0.755932  0.721683  0.738411\n",
       "8                     0.942322   0.868878  0.889968  0.879297\n",
       "16                    0.964859   0.907121  0.948220  0.927215\n",
       "32                    0.970970   0.915644  0.966019  0.940157"
      ]
     },
     "execution_count": 40,
     "metadata": {},
     "output_type": "execute_result"
    }
   ],
   "source": [
    "scores"
   ]
  },
  {
   "cell_type": "code",
   "execution_count": 46,
   "id": "cc1a8df3",
   "metadata": {},
   "outputs": [],
   "source": [
    "import plotly.graph_objects as go"
   ]
  },
  {
   "cell_type": "code",
   "execution_count": 73,
   "id": "adba802f",
   "metadata": {},
   "outputs": [
    {
     "data": {
      "application/vnd.plotly.v1+json": {
       "config": {
        "plotlyServerURL": "https://plot.ly"
       },
       "data": [
        {
         "name": "Accuracy",
         "type": "scatter",
         "x": [
          2,
          4,
          8,
          16,
          32
         ],
         "y": [
          0.7608861726508785,
          0.8792971734148205,
          0.9423223834988541,
          0.9648586707410237,
          0.970970206264324
         ]
        },
        {
         "name": "Precision",
         "type": "scatter",
         "x": [
          2,
          4,
          8,
          16,
          32
         ],
         "y": [
          0.492,
          0.7559322033898305,
          0.8688783570300158,
          0.9071207430340558,
          0.9156441717791411
         ]
        },
        {
         "name": "Recall",
         "type": "scatter",
         "x": [
          2,
          4,
          8,
          16,
          32
         ],
         "y": [
          0.39805825242718446,
          0.7216828478964401,
          0.889967637540453,
          0.948220064724919,
          0.9660194174757282
         ]
        },
        {
         "name": "F1-Score",
         "type": "scatter",
         "x": [
          2,
          4,
          8,
          16,
          32
         ],
         "y": [
          0.4400715563506261,
          0.7384105960264901,
          0.8792965627498002,
          0.9272151898734177,
          0.9401574803149606
         ]
        }
       ],
       "layout": {
        "template": {
         "data": {
          "bar": [
           {
            "error_x": {
             "color": "#2a3f5f"
            },
            "error_y": {
             "color": "#2a3f5f"
            },
            "marker": {
             "line": {
              "color": "white",
              "width": 0.5
             },
             "pattern": {
              "fillmode": "overlay",
              "size": 10,
              "solidity": 0.2
             }
            },
            "type": "bar"
           }
          ],
          "barpolar": [
           {
            "marker": {
             "line": {
              "color": "white",
              "width": 0.5
             },
             "pattern": {
              "fillmode": "overlay",
              "size": 10,
              "solidity": 0.2
             }
            },
            "type": "barpolar"
           }
          ],
          "carpet": [
           {
            "aaxis": {
             "endlinecolor": "#2a3f5f",
             "gridcolor": "#C8D4E3",
             "linecolor": "#C8D4E3",
             "minorgridcolor": "#C8D4E3",
             "startlinecolor": "#2a3f5f"
            },
            "baxis": {
             "endlinecolor": "#2a3f5f",
             "gridcolor": "#C8D4E3",
             "linecolor": "#C8D4E3",
             "minorgridcolor": "#C8D4E3",
             "startlinecolor": "#2a3f5f"
            },
            "type": "carpet"
           }
          ],
          "choropleth": [
           {
            "colorbar": {
             "outlinewidth": 0,
             "ticks": ""
            },
            "type": "choropleth"
           }
          ],
          "contour": [
           {
            "colorbar": {
             "outlinewidth": 0,
             "ticks": ""
            },
            "colorscale": [
             [
              0,
              "#0d0887"
             ],
             [
              0.1111111111111111,
              "#46039f"
             ],
             [
              0.2222222222222222,
              "#7201a8"
             ],
             [
              0.3333333333333333,
              "#9c179e"
             ],
             [
              0.4444444444444444,
              "#bd3786"
             ],
             [
              0.5555555555555556,
              "#d8576b"
             ],
             [
              0.6666666666666666,
              "#ed7953"
             ],
             [
              0.7777777777777778,
              "#fb9f3a"
             ],
             [
              0.8888888888888888,
              "#fdca26"
             ],
             [
              1,
              "#f0f921"
             ]
            ],
            "type": "contour"
           }
          ],
          "contourcarpet": [
           {
            "colorbar": {
             "outlinewidth": 0,
             "ticks": ""
            },
            "type": "contourcarpet"
           }
          ],
          "heatmap": [
           {
            "colorbar": {
             "outlinewidth": 0,
             "ticks": ""
            },
            "colorscale": [
             [
              0,
              "#0d0887"
             ],
             [
              0.1111111111111111,
              "#46039f"
             ],
             [
              0.2222222222222222,
              "#7201a8"
             ],
             [
              0.3333333333333333,
              "#9c179e"
             ],
             [
              0.4444444444444444,
              "#bd3786"
             ],
             [
              0.5555555555555556,
              "#d8576b"
             ],
             [
              0.6666666666666666,
              "#ed7953"
             ],
             [
              0.7777777777777778,
              "#fb9f3a"
             ],
             [
              0.8888888888888888,
              "#fdca26"
             ],
             [
              1,
              "#f0f921"
             ]
            ],
            "type": "heatmap"
           }
          ],
          "heatmapgl": [
           {
            "colorbar": {
             "outlinewidth": 0,
             "ticks": ""
            },
            "colorscale": [
             [
              0,
              "#0d0887"
             ],
             [
              0.1111111111111111,
              "#46039f"
             ],
             [
              0.2222222222222222,
              "#7201a8"
             ],
             [
              0.3333333333333333,
              "#9c179e"
             ],
             [
              0.4444444444444444,
              "#bd3786"
             ],
             [
              0.5555555555555556,
              "#d8576b"
             ],
             [
              0.6666666666666666,
              "#ed7953"
             ],
             [
              0.7777777777777778,
              "#fb9f3a"
             ],
             [
              0.8888888888888888,
              "#fdca26"
             ],
             [
              1,
              "#f0f921"
             ]
            ],
            "type": "heatmapgl"
           }
          ],
          "histogram": [
           {
            "marker": {
             "pattern": {
              "fillmode": "overlay",
              "size": 10,
              "solidity": 0.2
             }
            },
            "type": "histogram"
           }
          ],
          "histogram2d": [
           {
            "colorbar": {
             "outlinewidth": 0,
             "ticks": ""
            },
            "colorscale": [
             [
              0,
              "#0d0887"
             ],
             [
              0.1111111111111111,
              "#46039f"
             ],
             [
              0.2222222222222222,
              "#7201a8"
             ],
             [
              0.3333333333333333,
              "#9c179e"
             ],
             [
              0.4444444444444444,
              "#bd3786"
             ],
             [
              0.5555555555555556,
              "#d8576b"
             ],
             [
              0.6666666666666666,
              "#ed7953"
             ],
             [
              0.7777777777777778,
              "#fb9f3a"
             ],
             [
              0.8888888888888888,
              "#fdca26"
             ],
             [
              1,
              "#f0f921"
             ]
            ],
            "type": "histogram2d"
           }
          ],
          "histogram2dcontour": [
           {
            "colorbar": {
             "outlinewidth": 0,
             "ticks": ""
            },
            "colorscale": [
             [
              0,
              "#0d0887"
             ],
             [
              0.1111111111111111,
              "#46039f"
             ],
             [
              0.2222222222222222,
              "#7201a8"
             ],
             [
              0.3333333333333333,
              "#9c179e"
             ],
             [
              0.4444444444444444,
              "#bd3786"
             ],
             [
              0.5555555555555556,
              "#d8576b"
             ],
             [
              0.6666666666666666,
              "#ed7953"
             ],
             [
              0.7777777777777778,
              "#fb9f3a"
             ],
             [
              0.8888888888888888,
              "#fdca26"
             ],
             [
              1,
              "#f0f921"
             ]
            ],
            "type": "histogram2dcontour"
           }
          ],
          "mesh3d": [
           {
            "colorbar": {
             "outlinewidth": 0,
             "ticks": ""
            },
            "type": "mesh3d"
           }
          ],
          "parcoords": [
           {
            "line": {
             "colorbar": {
              "outlinewidth": 0,
              "ticks": ""
             }
            },
            "type": "parcoords"
           }
          ],
          "pie": [
           {
            "automargin": true,
            "type": "pie"
           }
          ],
          "scatter": [
           {
            "fillpattern": {
             "fillmode": "overlay",
             "size": 10,
             "solidity": 0.2
            },
            "type": "scatter"
           }
          ],
          "scatter3d": [
           {
            "line": {
             "colorbar": {
              "outlinewidth": 0,
              "ticks": ""
             }
            },
            "marker": {
             "colorbar": {
              "outlinewidth": 0,
              "ticks": ""
             }
            },
            "type": "scatter3d"
           }
          ],
          "scattercarpet": [
           {
            "marker": {
             "colorbar": {
              "outlinewidth": 0,
              "ticks": ""
             }
            },
            "type": "scattercarpet"
           }
          ],
          "scattergeo": [
           {
            "marker": {
             "colorbar": {
              "outlinewidth": 0,
              "ticks": ""
             }
            },
            "type": "scattergeo"
           }
          ],
          "scattergl": [
           {
            "marker": {
             "colorbar": {
              "outlinewidth": 0,
              "ticks": ""
             }
            },
            "type": "scattergl"
           }
          ],
          "scattermapbox": [
           {
            "marker": {
             "colorbar": {
              "outlinewidth": 0,
              "ticks": ""
             }
            },
            "type": "scattermapbox"
           }
          ],
          "scatterpolar": [
           {
            "marker": {
             "colorbar": {
              "outlinewidth": 0,
              "ticks": ""
             }
            },
            "type": "scatterpolar"
           }
          ],
          "scatterpolargl": [
           {
            "marker": {
             "colorbar": {
              "outlinewidth": 0,
              "ticks": ""
             }
            },
            "type": "scatterpolargl"
           }
          ],
          "scatterternary": [
           {
            "marker": {
             "colorbar": {
              "outlinewidth": 0,
              "ticks": ""
             }
            },
            "type": "scatterternary"
           }
          ],
          "surface": [
           {
            "colorbar": {
             "outlinewidth": 0,
             "ticks": ""
            },
            "colorscale": [
             [
              0,
              "#0d0887"
             ],
             [
              0.1111111111111111,
              "#46039f"
             ],
             [
              0.2222222222222222,
              "#7201a8"
             ],
             [
              0.3333333333333333,
              "#9c179e"
             ],
             [
              0.4444444444444444,
              "#bd3786"
             ],
             [
              0.5555555555555556,
              "#d8576b"
             ],
             [
              0.6666666666666666,
              "#ed7953"
             ],
             [
              0.7777777777777778,
              "#fb9f3a"
             ],
             [
              0.8888888888888888,
              "#fdca26"
             ],
             [
              1,
              "#f0f921"
             ]
            ],
            "type": "surface"
           }
          ],
          "table": [
           {
            "cells": {
             "fill": {
              "color": "#EBF0F8"
             },
             "line": {
              "color": "white"
             }
            },
            "header": {
             "fill": {
              "color": "#C8D4E3"
             },
             "line": {
              "color": "white"
             }
            },
            "type": "table"
           }
          ]
         },
         "layout": {
          "annotationdefaults": {
           "arrowcolor": "#2a3f5f",
           "arrowhead": 0,
           "arrowwidth": 1
          },
          "autotypenumbers": "strict",
          "coloraxis": {
           "colorbar": {
            "outlinewidth": 0,
            "ticks": ""
           }
          },
          "colorscale": {
           "diverging": [
            [
             0,
             "#8e0152"
            ],
            [
             0.1,
             "#c51b7d"
            ],
            [
             0.2,
             "#de77ae"
            ],
            [
             0.3,
             "#f1b6da"
            ],
            [
             0.4,
             "#fde0ef"
            ],
            [
             0.5,
             "#f7f7f7"
            ],
            [
             0.6,
             "#e6f5d0"
            ],
            [
             0.7,
             "#b8e186"
            ],
            [
             0.8,
             "#7fbc41"
            ],
            [
             0.9,
             "#4d9221"
            ],
            [
             1,
             "#276419"
            ]
           ],
           "sequential": [
            [
             0,
             "#0d0887"
            ],
            [
             0.1111111111111111,
             "#46039f"
            ],
            [
             0.2222222222222222,
             "#7201a8"
            ],
            [
             0.3333333333333333,
             "#9c179e"
            ],
            [
             0.4444444444444444,
             "#bd3786"
            ],
            [
             0.5555555555555556,
             "#d8576b"
            ],
            [
             0.6666666666666666,
             "#ed7953"
            ],
            [
             0.7777777777777778,
             "#fb9f3a"
            ],
            [
             0.8888888888888888,
             "#fdca26"
            ],
            [
             1,
             "#f0f921"
            ]
           ],
           "sequentialminus": [
            [
             0,
             "#0d0887"
            ],
            [
             0.1111111111111111,
             "#46039f"
            ],
            [
             0.2222222222222222,
             "#7201a8"
            ],
            [
             0.3333333333333333,
             "#9c179e"
            ],
            [
             0.4444444444444444,
             "#bd3786"
            ],
            [
             0.5555555555555556,
             "#d8576b"
            ],
            [
             0.6666666666666666,
             "#ed7953"
            ],
            [
             0.7777777777777778,
             "#fb9f3a"
            ],
            [
             0.8888888888888888,
             "#fdca26"
            ],
            [
             1,
             "#f0f921"
            ]
           ]
          },
          "colorway": [
           "#636efa",
           "#EF553B",
           "#00cc96",
           "#ab63fa",
           "#FFA15A",
           "#19d3f3",
           "#FF6692",
           "#B6E880",
           "#FF97FF",
           "#FECB52"
          ],
          "font": {
           "color": "#2a3f5f"
          },
          "geo": {
           "bgcolor": "white",
           "lakecolor": "white",
           "landcolor": "white",
           "showlakes": true,
           "showland": true,
           "subunitcolor": "#C8D4E3"
          },
          "hoverlabel": {
           "align": "left"
          },
          "hovermode": "closest",
          "mapbox": {
           "style": "light"
          },
          "paper_bgcolor": "white",
          "plot_bgcolor": "white",
          "polar": {
           "angularaxis": {
            "gridcolor": "#EBF0F8",
            "linecolor": "#EBF0F8",
            "ticks": ""
           },
           "bgcolor": "white",
           "radialaxis": {
            "gridcolor": "#EBF0F8",
            "linecolor": "#EBF0F8",
            "ticks": ""
           }
          },
          "scene": {
           "xaxis": {
            "backgroundcolor": "white",
            "gridcolor": "#DFE8F3",
            "gridwidth": 2,
            "linecolor": "#EBF0F8",
            "showbackground": true,
            "ticks": "",
            "zerolinecolor": "#EBF0F8"
           },
           "yaxis": {
            "backgroundcolor": "white",
            "gridcolor": "#DFE8F3",
            "gridwidth": 2,
            "linecolor": "#EBF0F8",
            "showbackground": true,
            "ticks": "",
            "zerolinecolor": "#EBF0F8"
           },
           "zaxis": {
            "backgroundcolor": "white",
            "gridcolor": "#DFE8F3",
            "gridwidth": 2,
            "linecolor": "#EBF0F8",
            "showbackground": true,
            "ticks": "",
            "zerolinecolor": "#EBF0F8"
           }
          },
          "shapedefaults": {
           "line": {
            "color": "#2a3f5f"
           }
          },
          "ternary": {
           "aaxis": {
            "gridcolor": "#DFE8F3",
            "linecolor": "#A2B1C6",
            "ticks": ""
           },
           "baxis": {
            "gridcolor": "#DFE8F3",
            "linecolor": "#A2B1C6",
            "ticks": ""
           },
           "bgcolor": "white",
           "caxis": {
            "gridcolor": "#DFE8F3",
            "linecolor": "#A2B1C6",
            "ticks": ""
           }
          },
          "title": {
           "x": 0.05
          },
          "xaxis": {
           "automargin": true,
           "gridcolor": "#EBF0F8",
           "linecolor": "#EBF0F8",
           "ticks": "",
           "title": {
            "standoff": 15
           },
           "zerolinecolor": "#EBF0F8",
           "zerolinewidth": 2
          },
          "yaxis": {
           "automargin": true,
           "gridcolor": "#EBF0F8",
           "linecolor": "#EBF0F8",
           "ticks": "",
           "title": {
            "standoff": 15
           },
           "zerolinecolor": "#EBF0F8",
           "zerolinewidth": 2
          }
         }
        },
        "xaxis": {
         "title": {
          "text": "Number of viewpoints"
         },
         "type": "log"
        },
        "yaxis": {
         "range": [
          0,
          1
         ],
         "title": {
          "text": "Value"
         }
        }
       }
      },
      "text/html": [
       "<div>                            <div id=\"6ff968a2-da39-4422-9513-4c3746f81b2b\" class=\"plotly-graph-div\" style=\"height:525px; width:100%;\"></div>            <script type=\"text/javascript\">                require([\"plotly\"], function(Plotly) {                    window.PLOTLYENV=window.PLOTLYENV || {};                                    if (document.getElementById(\"6ff968a2-da39-4422-9513-4c3746f81b2b\")) {                    Plotly.newPlot(                        \"6ff968a2-da39-4422-9513-4c3746f81b2b\",                        [{\"name\":\"Accuracy\",\"x\":[2,4,8,16,32],\"y\":[0.7608861726508785,0.8792971734148205,0.9423223834988541,0.9648586707410237,0.970970206264324],\"type\":\"scatter\"},{\"name\":\"Precision\",\"x\":[2,4,8,16,32],\"y\":[0.492,0.7559322033898305,0.8688783570300158,0.9071207430340558,0.9156441717791411],\"type\":\"scatter\"},{\"name\":\"Recall\",\"x\":[2,4,8,16,32],\"y\":[0.39805825242718446,0.7216828478964401,0.889967637540453,0.948220064724919,0.9660194174757282],\"type\":\"scatter\"},{\"name\":\"F1-Score\",\"x\":[2,4,8,16,32],\"y\":[0.4400715563506261,0.7384105960264901,0.8792965627498002,0.9272151898734177,0.9401574803149606],\"type\":\"scatter\"}],                        {\"template\":{\"data\":{\"barpolar\":[{\"marker\":{\"line\":{\"color\":\"white\",\"width\":0.5},\"pattern\":{\"fillmode\":\"overlay\",\"size\":10,\"solidity\":0.2}},\"type\":\"barpolar\"}],\"bar\":[{\"error_x\":{\"color\":\"#2a3f5f\"},\"error_y\":{\"color\":\"#2a3f5f\"},\"marker\":{\"line\":{\"color\":\"white\",\"width\":0.5},\"pattern\":{\"fillmode\":\"overlay\",\"size\":10,\"solidity\":0.2}},\"type\":\"bar\"}],\"carpet\":[{\"aaxis\":{\"endlinecolor\":\"#2a3f5f\",\"gridcolor\":\"#C8D4E3\",\"linecolor\":\"#C8D4E3\",\"minorgridcolor\":\"#C8D4E3\",\"startlinecolor\":\"#2a3f5f\"},\"baxis\":{\"endlinecolor\":\"#2a3f5f\",\"gridcolor\":\"#C8D4E3\",\"linecolor\":\"#C8D4E3\",\"minorgridcolor\":\"#C8D4E3\",\"startlinecolor\":\"#2a3f5f\"},\"type\":\"carpet\"}],\"choropleth\":[{\"colorbar\":{\"outlinewidth\":0,\"ticks\":\"\"},\"type\":\"choropleth\"}],\"contourcarpet\":[{\"colorbar\":{\"outlinewidth\":0,\"ticks\":\"\"},\"type\":\"contourcarpet\"}],\"contour\":[{\"colorbar\":{\"outlinewidth\":0,\"ticks\":\"\"},\"colorscale\":[[0.0,\"#0d0887\"],[0.1111111111111111,\"#46039f\"],[0.2222222222222222,\"#7201a8\"],[0.3333333333333333,\"#9c179e\"],[0.4444444444444444,\"#bd3786\"],[0.5555555555555556,\"#d8576b\"],[0.6666666666666666,\"#ed7953\"],[0.7777777777777778,\"#fb9f3a\"],[0.8888888888888888,\"#fdca26\"],[1.0,\"#f0f921\"]],\"type\":\"contour\"}],\"heatmapgl\":[{\"colorbar\":{\"outlinewidth\":0,\"ticks\":\"\"},\"colorscale\":[[0.0,\"#0d0887\"],[0.1111111111111111,\"#46039f\"],[0.2222222222222222,\"#7201a8\"],[0.3333333333333333,\"#9c179e\"],[0.4444444444444444,\"#bd3786\"],[0.5555555555555556,\"#d8576b\"],[0.6666666666666666,\"#ed7953\"],[0.7777777777777778,\"#fb9f3a\"],[0.8888888888888888,\"#fdca26\"],[1.0,\"#f0f921\"]],\"type\":\"heatmapgl\"}],\"heatmap\":[{\"colorbar\":{\"outlinewidth\":0,\"ticks\":\"\"},\"colorscale\":[[0.0,\"#0d0887\"],[0.1111111111111111,\"#46039f\"],[0.2222222222222222,\"#7201a8\"],[0.3333333333333333,\"#9c179e\"],[0.4444444444444444,\"#bd3786\"],[0.5555555555555556,\"#d8576b\"],[0.6666666666666666,\"#ed7953\"],[0.7777777777777778,\"#fb9f3a\"],[0.8888888888888888,\"#fdca26\"],[1.0,\"#f0f921\"]],\"type\":\"heatmap\"}],\"histogram2dcontour\":[{\"colorbar\":{\"outlinewidth\":0,\"ticks\":\"\"},\"colorscale\":[[0.0,\"#0d0887\"],[0.1111111111111111,\"#46039f\"],[0.2222222222222222,\"#7201a8\"],[0.3333333333333333,\"#9c179e\"],[0.4444444444444444,\"#bd3786\"],[0.5555555555555556,\"#d8576b\"],[0.6666666666666666,\"#ed7953\"],[0.7777777777777778,\"#fb9f3a\"],[0.8888888888888888,\"#fdca26\"],[1.0,\"#f0f921\"]],\"type\":\"histogram2dcontour\"}],\"histogram2d\":[{\"colorbar\":{\"outlinewidth\":0,\"ticks\":\"\"},\"colorscale\":[[0.0,\"#0d0887\"],[0.1111111111111111,\"#46039f\"],[0.2222222222222222,\"#7201a8\"],[0.3333333333333333,\"#9c179e\"],[0.4444444444444444,\"#bd3786\"],[0.5555555555555556,\"#d8576b\"],[0.6666666666666666,\"#ed7953\"],[0.7777777777777778,\"#fb9f3a\"],[0.8888888888888888,\"#fdca26\"],[1.0,\"#f0f921\"]],\"type\":\"histogram2d\"}],\"histogram\":[{\"marker\":{\"pattern\":{\"fillmode\":\"overlay\",\"size\":10,\"solidity\":0.2}},\"type\":\"histogram\"}],\"mesh3d\":[{\"colorbar\":{\"outlinewidth\":0,\"ticks\":\"\"},\"type\":\"mesh3d\"}],\"parcoords\":[{\"line\":{\"colorbar\":{\"outlinewidth\":0,\"ticks\":\"\"}},\"type\":\"parcoords\"}],\"pie\":[{\"automargin\":true,\"type\":\"pie\"}],\"scatter3d\":[{\"line\":{\"colorbar\":{\"outlinewidth\":0,\"ticks\":\"\"}},\"marker\":{\"colorbar\":{\"outlinewidth\":0,\"ticks\":\"\"}},\"type\":\"scatter3d\"}],\"scattercarpet\":[{\"marker\":{\"colorbar\":{\"outlinewidth\":0,\"ticks\":\"\"}},\"type\":\"scattercarpet\"}],\"scattergeo\":[{\"marker\":{\"colorbar\":{\"outlinewidth\":0,\"ticks\":\"\"}},\"type\":\"scattergeo\"}],\"scattergl\":[{\"marker\":{\"colorbar\":{\"outlinewidth\":0,\"ticks\":\"\"}},\"type\":\"scattergl\"}],\"scattermapbox\":[{\"marker\":{\"colorbar\":{\"outlinewidth\":0,\"ticks\":\"\"}},\"type\":\"scattermapbox\"}],\"scatterpolargl\":[{\"marker\":{\"colorbar\":{\"outlinewidth\":0,\"ticks\":\"\"}},\"type\":\"scatterpolargl\"}],\"scatterpolar\":[{\"marker\":{\"colorbar\":{\"outlinewidth\":0,\"ticks\":\"\"}},\"type\":\"scatterpolar\"}],\"scatter\":[{\"fillpattern\":{\"fillmode\":\"overlay\",\"size\":10,\"solidity\":0.2},\"type\":\"scatter\"}],\"scatterternary\":[{\"marker\":{\"colorbar\":{\"outlinewidth\":0,\"ticks\":\"\"}},\"type\":\"scatterternary\"}],\"surface\":[{\"colorbar\":{\"outlinewidth\":0,\"ticks\":\"\"},\"colorscale\":[[0.0,\"#0d0887\"],[0.1111111111111111,\"#46039f\"],[0.2222222222222222,\"#7201a8\"],[0.3333333333333333,\"#9c179e\"],[0.4444444444444444,\"#bd3786\"],[0.5555555555555556,\"#d8576b\"],[0.6666666666666666,\"#ed7953\"],[0.7777777777777778,\"#fb9f3a\"],[0.8888888888888888,\"#fdca26\"],[1.0,\"#f0f921\"]],\"type\":\"surface\"}],\"table\":[{\"cells\":{\"fill\":{\"color\":\"#EBF0F8\"},\"line\":{\"color\":\"white\"}},\"header\":{\"fill\":{\"color\":\"#C8D4E3\"},\"line\":{\"color\":\"white\"}},\"type\":\"table\"}]},\"layout\":{\"annotationdefaults\":{\"arrowcolor\":\"#2a3f5f\",\"arrowhead\":0,\"arrowwidth\":1},\"autotypenumbers\":\"strict\",\"coloraxis\":{\"colorbar\":{\"outlinewidth\":0,\"ticks\":\"\"}},\"colorscale\":{\"diverging\":[[0,\"#8e0152\"],[0.1,\"#c51b7d\"],[0.2,\"#de77ae\"],[0.3,\"#f1b6da\"],[0.4,\"#fde0ef\"],[0.5,\"#f7f7f7\"],[0.6,\"#e6f5d0\"],[0.7,\"#b8e186\"],[0.8,\"#7fbc41\"],[0.9,\"#4d9221\"],[1,\"#276419\"]],\"sequential\":[[0.0,\"#0d0887\"],[0.1111111111111111,\"#46039f\"],[0.2222222222222222,\"#7201a8\"],[0.3333333333333333,\"#9c179e\"],[0.4444444444444444,\"#bd3786\"],[0.5555555555555556,\"#d8576b\"],[0.6666666666666666,\"#ed7953\"],[0.7777777777777778,\"#fb9f3a\"],[0.8888888888888888,\"#fdca26\"],[1.0,\"#f0f921\"]],\"sequentialminus\":[[0.0,\"#0d0887\"],[0.1111111111111111,\"#46039f\"],[0.2222222222222222,\"#7201a8\"],[0.3333333333333333,\"#9c179e\"],[0.4444444444444444,\"#bd3786\"],[0.5555555555555556,\"#d8576b\"],[0.6666666666666666,\"#ed7953\"],[0.7777777777777778,\"#fb9f3a\"],[0.8888888888888888,\"#fdca26\"],[1.0,\"#f0f921\"]]},\"colorway\":[\"#636efa\",\"#EF553B\",\"#00cc96\",\"#ab63fa\",\"#FFA15A\",\"#19d3f3\",\"#FF6692\",\"#B6E880\",\"#FF97FF\",\"#FECB52\"],\"font\":{\"color\":\"#2a3f5f\"},\"geo\":{\"bgcolor\":\"white\",\"lakecolor\":\"white\",\"landcolor\":\"white\",\"showlakes\":true,\"showland\":true,\"subunitcolor\":\"#C8D4E3\"},\"hoverlabel\":{\"align\":\"left\"},\"hovermode\":\"closest\",\"mapbox\":{\"style\":\"light\"},\"paper_bgcolor\":\"white\",\"plot_bgcolor\":\"white\",\"polar\":{\"angularaxis\":{\"gridcolor\":\"#EBF0F8\",\"linecolor\":\"#EBF0F8\",\"ticks\":\"\"},\"bgcolor\":\"white\",\"radialaxis\":{\"gridcolor\":\"#EBF0F8\",\"linecolor\":\"#EBF0F8\",\"ticks\":\"\"}},\"scene\":{\"xaxis\":{\"backgroundcolor\":\"white\",\"gridcolor\":\"#DFE8F3\",\"gridwidth\":2,\"linecolor\":\"#EBF0F8\",\"showbackground\":true,\"ticks\":\"\",\"zerolinecolor\":\"#EBF0F8\"},\"yaxis\":{\"backgroundcolor\":\"white\",\"gridcolor\":\"#DFE8F3\",\"gridwidth\":2,\"linecolor\":\"#EBF0F8\",\"showbackground\":true,\"ticks\":\"\",\"zerolinecolor\":\"#EBF0F8\"},\"zaxis\":{\"backgroundcolor\":\"white\",\"gridcolor\":\"#DFE8F3\",\"gridwidth\":2,\"linecolor\":\"#EBF0F8\",\"showbackground\":true,\"ticks\":\"\",\"zerolinecolor\":\"#EBF0F8\"}},\"shapedefaults\":{\"line\":{\"color\":\"#2a3f5f\"}},\"ternary\":{\"aaxis\":{\"gridcolor\":\"#DFE8F3\",\"linecolor\":\"#A2B1C6\",\"ticks\":\"\"},\"baxis\":{\"gridcolor\":\"#DFE8F3\",\"linecolor\":\"#A2B1C6\",\"ticks\":\"\"},\"bgcolor\":\"white\",\"caxis\":{\"gridcolor\":\"#DFE8F3\",\"linecolor\":\"#A2B1C6\",\"ticks\":\"\"}},\"title\":{\"x\":0.05},\"xaxis\":{\"automargin\":true,\"gridcolor\":\"#EBF0F8\",\"linecolor\":\"#EBF0F8\",\"ticks\":\"\",\"title\":{\"standoff\":15},\"zerolinecolor\":\"#EBF0F8\",\"zerolinewidth\":2},\"yaxis\":{\"automargin\":true,\"gridcolor\":\"#EBF0F8\",\"linecolor\":\"#EBF0F8\",\"ticks\":\"\",\"title\":{\"standoff\":15},\"zerolinecolor\":\"#EBF0F8\",\"zerolinewidth\":2}}},\"yaxis\":{\"title\":{\"text\":\"Value\"},\"range\":[0,1]},\"xaxis\":{\"type\":\"log\",\"title\":{\"text\":\"Number of viewpoints\"}}},                        {\"responsive\": true}                    ).then(function(){\n",
       "                            \n",
       "var gd = document.getElementById('6ff968a2-da39-4422-9513-4c3746f81b2b');\n",
       "var x = new MutationObserver(function (mutations, observer) {{\n",
       "        var display = window.getComputedStyle(gd).display;\n",
       "        if (!display || display === 'none') {{\n",
       "            console.log([gd, 'removed!']);\n",
       "            Plotly.purge(gd);\n",
       "            observer.disconnect();\n",
       "        }}\n",
       "}});\n",
       "\n",
       "// Listen for the removal of the full notebook cells\n",
       "var notebookContainer = gd.closest('#notebook-container');\n",
       "if (notebookContainer) {{\n",
       "    x.observe(notebookContainer, {childList: true});\n",
       "}}\n",
       "\n",
       "// Listen for the clearing of the current output cell\n",
       "var outputEl = gd.closest('.output');\n",
       "if (outputEl) {{\n",
       "    x.observe(outputEl, {childList: true});\n",
       "}}\n",
       "\n",
       "                        })                };                });            </script>        </div>"
      ]
     },
     "metadata": {},
     "output_type": "display_data"
    }
   ],
   "source": [
    "fig = go.Figure()\n",
    "fig.add_trace(go.Scatter(x=scores.index, y=scores['Accuracy'], name='Accuracy'))\n",
    "fig.add_trace(go.Scatter(x=scores.index, y=scores['Precision'], name='Precision'))\n",
    "fig.add_trace(go.Scatter(x=scores.index, y=scores['Recall'], name='Recall'))\n",
    "fig.add_trace(go.Scatter(x=scores.index, y=scores['F1-Score'], name='F1-Score'))\n",
    "fig.update_layout(\n",
    "    template='plotly_white', \n",
    "    yaxis=dict(title='Value', range=[0,1]),\n",
    ")\n",
    "fig.update_xaxes(type=\"log\", title='Number of viewpoints')\n",
    "fig.write_image('figure.png', scale=3)\n",
    "fig.show()"
   ]
  },
  {
   "cell_type": "code",
   "execution_count": null,
   "id": "acf59138",
   "metadata": {},
   "outputs": [],
   "source": []
  }
 ],
 "metadata": {
  "kernelspec": {
   "display_name": "topoutils",
   "language": "python",
   "name": "topoutils"
  },
  "language_info": {
   "codemirror_mode": {
    "name": "ipython",
    "version": 3
   },
   "file_extension": ".py",
   "mimetype": "text/x-python",
   "name": "python",
   "nbconvert_exporter": "python",
   "pygments_lexer": "ipython3",
   "version": "3.11.3"
  }
 },
 "nbformat": 4,
 "nbformat_minor": 5
}
