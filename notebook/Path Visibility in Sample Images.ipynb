{
 "cells": [
  {
   "cell_type": "markdown",
   "id": "db417236",
   "metadata": {},
   "source": [
    "# Path Visibility in Sample Images"
   ]
  },
  {
   "cell_type": "code",
   "execution_count": 1,
   "id": "2d04cbfd",
   "metadata": {},
   "outputs": [],
   "source": [
    "import sys\n",
    "from pathlib import Path\n",
    "from typing import List\n",
    "\n",
    "import json\n",
    "import matplotlib.pyplot as plt\n",
    "import numpy as np\n",
    "from tqdm import tqdm\n",
    "\n",
    "from topoutils.constants import ASSETS_DIR, PROJECT_DIR\n",
    "from topoutils.sphere_sampling import get_spherical_coordinates\n",
    "from topoutils.visibility import Vertex, from_json\n",
    "\n",
    "sys.path.insert(0, '..')"
   ]
  },
  {
   "cell_type": "markdown",
   "id": "74a15be3",
   "metadata": {},
   "source": [
    "## Input data"
   ]
  },
  {
   "cell_type": "code",
   "execution_count": 2,
   "id": "723507e3",
   "metadata": {},
   "outputs": [],
   "source": [
    "captured_images = ASSETS_DIR.joinpath('capturedImages')\n",
    "cameras_sfm = ASSETS_DIR.joinpath('cameras', 'cameras.sfm')"
   ]
  },
  {
   "cell_type": "code",
   "execution_count": 3,
   "id": "47eccc63",
   "metadata": {},
   "outputs": [],
   "source": [
    "n_range = [2,4,8,16]"
   ]
  },
  {
   "cell_type": "markdown",
   "id": "b3a31ae4",
   "metadata": {},
   "source": [
    "## Functions"
   ]
  },
  {
   "cell_type": "code",
   "execution_count": 4,
   "id": "3590f46f",
   "metadata": {},
   "outputs": [],
   "source": [
    "def read_polylines(n, parent_visibility_folder=PROJECT_DIR.joinpath('visibility')):\n",
    "    \n",
    "    visibility_folder = parent_visibility_folder.joinpath(f'n_{n}')\n",
    "    blue_visibility = from_json(visibility_folder.joinpath('BluePolyline.json'))\n",
    "    red_visibility = from_json(visibility_folder.joinpath('RedPolyline.json'))\n",
    "    yellow_visibility = from_json(visibility_folder.joinpath('YellowPolyline.json'))\n",
    "    green_visibility = from_json(visibility_folder.joinpath('GreenPolyline.json'))\n",
    "\n",
    "    polylines = [\n",
    "        (green_visibility, (0, 1, 0.5)), \n",
    "        (yellow_visibility, (1, 1, 0)),\n",
    "        (red_visibility, (1, 0, 0)),\n",
    "        (blue_visibility, (0, 170/255, 1)),\n",
    "    ]\n",
    "    return polylines"
   ]
  },
  {
   "cell_type": "code",
   "execution_count": 5,
   "id": "396659fe",
   "metadata": {},
   "outputs": [],
   "source": [
    "def create_output_directory(n, parent_output_directory=PROJECT_DIR.joinpath('output')):\n",
    "    output_directory = parent_output_directory.joinpath(f'n_{n}')\n",
    "    output_directory.mkdir(exist_ok=True, parents=True)\n",
    "    return output_directory"
   ]
  },
  {
   "cell_type": "code",
   "execution_count": 6,
   "id": "bbdf3cf5",
   "metadata": {},
   "outputs": [],
   "source": [
    "def polyline_to_matrix(visibility):\n",
    "    vertices = [visibility.edges[0].vertex1, visibility.edges[0].vertex2]\n",
    "    for edge in visibility.edges[1:]:\n",
    "        if vertices[-1] == edge.vertex1:\n",
    "            vertices.append(edge.vertex2)\n",
    "        elif vertices[-1] == edge.vertex2:\n",
    "            vertices.append(edge.vertex1)\n",
    "        else:\n",
    "            raise ValueError(f'Edge {edge} doesn\\'t match')\n",
    "            \n",
    "    polyline = np.empty(shape=(len(vertices), 3))\n",
    "\n",
    "    for i, idx in enumerate(vertices):\n",
    "        polyline[i][0] = visibility.vertices[idx].x\n",
    "        polyline[i][1] = visibility.vertices[idx].y\n",
    "        polyline[i][2] = visibility.vertices[idx].z\n",
    "    return polyline"
   ]
  },
  {
   "cell_type": "code",
   "execution_count": 7,
   "id": "9558e1f2",
   "metadata": {},
   "outputs": [],
   "source": [
    "def get_image_coordinates(polyline, K, M):\n",
    "    polyline = np.hstack((polyline[:,:3], np.ones((polyline.shape[0], 1))))\n",
    "    points = np.matmul(K, np.matmul(M, polyline.T))\n",
    "    return np.divide(points, points[-1,:]).astype(int)"
   ]
  },
  {
   "cell_type": "code",
   "execution_count": 8,
   "id": "a939faa6",
   "metadata": {},
   "outputs": [],
   "source": [
    "def calculate_visibility(vertices: List[Vertex], eye: List[float]) -> np.array:\n",
    "    n = int(np.sqrt(len(vertices[0].visibility_grid)))\n",
    "    u, v = get_spherical_coordinates(n)\n",
    "    P = np.array([[v.x, v.y, v.z] for v in vertices])\n",
    "    delta = eye - P\n",
    "    R = np.sqrt(np.sum(np.square(delta), axis=1))\n",
    "    polar_angle = (np.arccos(delta[:, 2]/R) % np.pi).reshape(-1, 1)\n",
    "    azimuthal_angle = (np.arctan2(delta[:, 1], delta[:, 0]) % (2 * np.pi)).reshape(-1, 1)\n",
    "    azimuthal_idx = np.argmin(np.abs(u - azimuthal_angle), axis=1)\n",
    "    polar_idx = np.argmin(np.abs(v - polar_angle), axis=1)\n",
    "    poly_vis_idx = polar_idx*n+azimuthal_idx\n",
    "    nn_visibility = [vertex.visibility_grid[vis_idx] for vis_idx, vertex in zip(poly_vis_idx, vertices)]\n",
    "    return nn_visibility >= R"
   ]
  },
  {
   "cell_type": "code",
   "execution_count": 9,
   "id": "b05590bd",
   "metadata": {},
   "outputs": [],
   "source": [
    "def clip(coords, image_width, image_height):\n",
    "    return np.maximum(np.minimum(coords, np.array([[image_width], [image_height], [1]])), 0)"
   ]
  },
  {
   "cell_type": "code",
   "execution_count": 10,
   "id": "c2efce15",
   "metadata": {},
   "outputs": [],
   "source": [
    "def plot_polyline(image_coords, node_visibility, edges, color, image_width, image_height):\n",
    "    if not np.any(node_visibility):\n",
    "        return \n",
    "    plt.scatter(\n",
    "        x=image_coords[:, node_visibility][0], \n",
    "        y=image_coords[:, node_visibility][1], \n",
    "        facecolors=color,\n",
    "        edgecolors=color\n",
    "    )\n",
    "    for edge in edges:\n",
    "        v1_visible = node_visibility[edge.vertex1]\n",
    "        v2_visible = node_visibility[edge.vertex2]\n",
    "        coords = clip(image_coords[:, [edge.vertex1, edge.vertex2]], image_width, image_height)\n",
    "        if v1_visible and v2_visible:\n",
    "            plt.plot(coords[0], coords[1], '-', c=color)\n",
    "        elif v1_visible or v2_visible:\n",
    "            plt.plot(coords[0], coords[1], '--', c=color)\n"
   ]
  },
  {
   "cell_type": "code",
   "execution_count": 11,
   "id": "eb3520c0",
   "metadata": {},
   "outputs": [],
   "source": [
    "def is_inside_image(curr_image_coords, image_width, image_height):\n",
    "    return np.logical_and(\n",
    "        np.logical_and(\n",
    "            curr_image_coords[0] >= 0, \n",
    "            curr_image_coords[0] <= image_width,\n",
    "        ),\n",
    "        np.logical_and(\n",
    "            curr_image_coords[1] >= 0, \n",
    "            curr_image_coords[1] <= image_height\n",
    "        )\n",
    "    )"
   ]
  },
  {
   "cell_type": "markdown",
   "id": "483db4a1",
   "metadata": {},
   "source": [
    "## Camera information"
   ]
  },
  {
   "cell_type": "code",
   "execution_count": 12,
   "id": "1e454b5e",
   "metadata": {},
   "outputs": [],
   "source": [
    "cameras = json.load(cameras_sfm.open('r'))"
   ]
  },
  {
   "cell_type": "code",
   "execution_count": 13,
   "id": "05716b96",
   "metadata": {},
   "outputs": [
    {
     "data": {
      "text/plain": [
       "dict_keys(['version', 'featuresFolders', 'matchesFolders', 'views', 'intrinsics', 'poses'])"
      ]
     },
     "execution_count": 13,
     "metadata": {},
     "output_type": "execute_result"
    }
   ],
   "source": [
    "cameras.keys()"
   ]
  },
  {
   "cell_type": "code",
   "execution_count": 14,
   "id": "ef77709c",
   "metadata": {},
   "outputs": [],
   "source": [
    "intrinsic = cameras['intrinsics'][0]"
   ]
  },
  {
   "cell_type": "code",
   "execution_count": 15,
   "id": "220c3182",
   "metadata": {},
   "outputs": [],
   "source": [
    "K = np.array([\n",
    "    [float(intrinsic[\"pxFocalLength\"]), 0, float(intrinsic[\"principalPoint\"][0]), 0],\n",
    "    [0, float(intrinsic[\"pxFocalLength\"]), float(intrinsic[\"principalPoint\"][1]), 0],\n",
    "    [0, 0, 1, 0]\n",
    "])"
   ]
  },
  {
   "cell_type": "code",
   "execution_count": 16,
   "id": "df5b47fc",
   "metadata": {},
   "outputs": [],
   "source": [
    "views = {view['poseId'] : {\n",
    "    'imgName': view['path'][view['path'].rfind('/')+1:].upper(),\n",
    "    'width': int(view['width']),\n",
    "    'height': int(view['height'])\n",
    "} for view in cameras['views']}    "
   ]
  },
  {
   "cell_type": "code",
   "execution_count": 17,
   "id": "50081fa5",
   "metadata": {},
   "outputs": [
    {
     "name": "stderr",
     "output_type": "stream",
     "text": [
      "n=2: 100%|█████████████████████████████████████████████████████████████████████████████| 77/77 [02:18<00:00,  1.79s/it]\n",
      "n=4: 100%|█████████████████████████████████████████████████████████████████████████████| 77/77 [02:22<00:00,  1.85s/it]\n",
      "n=8: 100%|█████████████████████████████████████████████████████████████████████████████| 77/77 [02:21<00:00,  1.84s/it]\n",
      "n=16: 100%|████████████████████████████████████████████████████████████████████████████| 77/77 [02:22<00:00,  1.85s/it]\n"
     ]
    }
   ],
   "source": [
    "for n in n_range:\n",
    "    polylines = read_polylines(n)\n",
    "    output_directory = create_output_directory(n)\n",
    "    \n",
    "    for pose_obj in tqdm(cameras['poses'], desc=f'n={n}'):\n",
    "        \n",
    "        pose = pose_obj['pose']['transform']\n",
    "        view = views[pose_obj['poseId']]\n",
    "        img_name = view['imgName']\n",
    "        im = plt.imread(captured_images.joinpath(img_name))\n",
    "        fig, ax = plt.subplots(figsize=(16,12))\n",
    "        implot = ax.imshow(im)\n",
    "        plt.axis('off')\n",
    "\n",
    "        R = np.array([float(x) for x in pose[\"rotation\"]]).reshape((3,3), order='F')\n",
    "        C = np.array([[float(x)] for x in pose[\"center\"]])\n",
    "        T = - np.matmul(R, C)\n",
    "        M = np.vstack((np.hstack((R, T)), np.array([0, 0, 0, 1])))\n",
    "        eye = [float(x) for x in pose[\"center\"]]\n",
    "\n",
    "        image_width, image_height = view['width'], view['height']\n",
    "\n",
    "        for curr_polyline, curr_color in polylines:\n",
    "            polyline_matrix = polyline_to_matrix(curr_polyline)\n",
    "            curr_image_coords = get_image_coordinates(polyline_matrix, K, M)\n",
    "            curr_is_visible = np.logical_and(\n",
    "                calculate_visibility(curr_polyline.vertices, eye),\n",
    "                is_inside_image(curr_image_coords, image_width, image_height)\n",
    "            )\n",
    "            plot_polyline(curr_image_coords, curr_is_visible, curr_polyline.edges, curr_color, image_width, image_height)\n",
    "        plt.savefig(output_directory.joinpath(img_name), bbox_inches='tight')\n",
    "        plt.close()"
   ]
  },
  {
   "cell_type": "code",
   "execution_count": null,
   "id": "3fe52e5f",
   "metadata": {},
   "outputs": [],
   "source": []
  }
 ],
 "metadata": {
  "kernelspec": {
   "display_name": "topoutils",
   "language": "python",
   "name": "topoutils"
  },
  "language_info": {
   "codemirror_mode": {
    "name": "ipython",
    "version": 3
   },
   "file_extension": ".py",
   "mimetype": "text/x-python",
   "name": "python",
   "nbconvert_exporter": "python",
   "pygments_lexer": "ipython3",
   "version": "3.11.3"
  }
 },
 "nbformat": 4,
 "nbformat_minor": 5
}
